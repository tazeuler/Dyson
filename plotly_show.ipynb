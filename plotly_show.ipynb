{
 "cells": [
  {
   "cell_type": "code",
   "execution_count": 12,
   "id": "547d8a62",
   "metadata": {},
   "outputs": [
    {
     "data": {
      "application/vnd.plotly.v1+json": {
       "config": {
        "plotlyServerURL": "https://plot.ly"
       },
       "data": [
        {
         "hovertemplate": "Rating Subcategory=Investment Grade<br>Residual Maturity=%{x}<br>Spread Level=%{y}<extra></extra>",
         "legendgroup": "Investment Grade",
         "marker": {
          "color": "#636efa",
          "symbol": "circle"
         },
         "mode": "markers",
         "name": "Investment Grade",
         "orientation": "v",
         "showlegend": true,
         "type": "scatter",
         "x": [
          5,
          0,
          4,
          0,
          1,
          5,
          2,
          1,
          5,
          2,
          1,
          2,
          0,
          3,
          1,
          3,
          0,
          5,
          3,
          1,
          2,
          5,
          5,
          1,
          1,
          5,
          3,
          5,
          3,
          3,
          3,
          3,
          3,
          1,
          5,
          2,
          2,
          4,
          1,
          4,
          5,
          0,
          4,
          0
         ],
         "xaxis": "x",
         "y": [
          2.953229911665306,
          2.2687026894027276,
          2.0618691666342728,
          1.739308912122809,
          1.4843198765548518,
          2.6062795127597917,
          2.966846281789686,
          2.632863746438768,
          2.596690249969102,
          2.016397553481437,
          2.03550270105496,
          2.675420211814656,
          2.4704322384815445,
          2.082895947655132,
          2.391568798690164,
          1.3499098541918724,
          1.521658349660818,
          2.9308387025775873,
          1.3774142166827588,
          2.4007156599455426,
          2.712648583756185,
          2.7018568975350252,
          2.570681302227887,
          2.337976509428457,
          2.1613732428729096,
          1.7445655331234862,
          2.9473276735106344,
          1.9712275071724532,
          2.9889149252216414,
          1.3576454184426576,
          2.4883410461131246,
          2.957785716550018,
          1.8687887310208573,
          1.7001568153893514,
          2.2902067240611297,
          2.3378481193261993,
          1.4603705364831105,
          1.0872075435088675,
          2.9891010215946823,
          1.939889027981886,
          1.5591206835935172,
          2.7669880445325177,
          2.9061436940479064,
          1.6615006093410274
         ],
         "yaxis": "y"
        },
        {
         "hovertemplate": "Rating Subcategory=Speculative Grade<br>Residual Maturity=%{x}<br>Spread Level=%{y}<extra></extra>",
         "legendgroup": "Speculative Grade",
         "marker": {
          "color": "#EF553B",
          "symbol": "circle"
         },
         "mode": "markers",
         "name": "Speculative Grade",
         "orientation": "v",
         "showlegend": true,
         "type": "scatter",
         "x": [
          4,
          2,
          3,
          3,
          4,
          0,
          2,
          1,
          1,
          5,
          1,
          1,
          1,
          1,
          0,
          0,
          0,
          2,
          5,
          4,
          1,
          1,
          4,
          0,
          4,
          3,
          5,
          3,
          2,
          1,
          5,
          0,
          1,
          4,
          0,
          1,
          5,
          2,
          4,
          0,
          4,
          3,
          4,
          3,
          5,
          4,
          3,
          5,
          2,
          4,
          1,
          0,
          3,
          1,
          1,
          3
         ],
         "xaxis": "x",
         "y": [
          1.8220740266364626,
          1.0661014658010968,
          1.690142496053366,
          2.3614109031095336,
          1.8955663291461833,
          2.105786178142656,
          2.185393447758787,
          1.1617066526654305,
          1.9406012688920768,
          1.7976488848891061,
          1.301435087930859,
          2.3916256135817635,
          2.7167176096274397,
          1.6519178104037695,
          1.4404820951310966,
          2.422299064876036,
          2.619002092279431,
          1.6973319745834587,
          1.1923531021828415,
          2.881046528979208,
          1.7951440421750446,
          2.3513802340785617,
          1.4181432414754274,
          1.4571000435945993,
          2.9643366866588714,
          2.0332717825420286,
          2.9925073995158487,
          2.116586907214195,
          2.7652726863786796,
          1.5577427051843638,
          2.693322284476612,
          1.8090162542443802,
          2.7755401975219196,
          2.8712699884418953,
          2.8802668849155566,
          1.5678419494749314,
          1.610727720688787,
          1.8968482859724947,
          1.3518505053546908,
          1.0361507272310417,
          1.9877874303668692,
          1.7329375691657198,
          2.4418798485042585,
          1.6161215837047784,
          2.085080461109799,
          2.01762815367752,
          2.2726652363717905,
          1.5009236372111683,
          2.1797416951210877,
          1.9734843059189102,
          2.812197575437108,
          2.7283351301438064,
          1.9983867597695046,
          2.144008398418366,
          2.537108028612618,
          2.495437547794828
         ],
         "yaxis": "y"
        },
        {
         "line": {
          "dash": "dash"
         },
         "mode": "lines",
         "name": "Average Spread (All Ratings)",
         "type": "scatter",
         "x": [
          0,
          1,
          2,
          3,
          4,
          5
         ],
         "y": [
          2.0618019542733363,
          2.1234150237379974,
          2.163351736855573,
          2.0964435730619133,
          2.1080117651555486,
          2.223368265574085
         ]
        },
        {
         "line": {
          "dash": "dash"
         },
         "mode": "lines",
         "name": "Average Spread (Investment Grade)",
         "type": "scatter",
         "visible": "legendonly",
         "x": [
          0,
          1,
          2,
          3,
          4,
          5
         ],
         "y": [
          2.0714318072569076,
          2.2370642635521873,
          2.3615885477752125,
          2.1576692810431886,
          1.998777358043233,
          2.392469702468529
         ]
        },
        {
         "line": {
          "dash": "dash"
         },
         "mode": "lines",
         "name": "Average Spread (Speculative Grade)",
         "type": "scatter",
         "visible": "legendonly",
         "x": [
          0,
          1,
          2,
          3,
          4,
          5
         ],
         "y": [
          2.055382052284289,
          2.050354798143161,
          1.965114925935934,
          2.035217865080638,
          2.147733367741845,
          1.9817947842963088
         ]
        }
       ],
       "layout": {
        "legend": {
         "title": {
          "text": "Rating Subcategory"
         },
         "tracegroupgap": 0
        },
        "template": {
         "data": {
          "bar": [
           {
            "error_x": {
             "color": "#2a3f5f"
            },
            "error_y": {
             "color": "#2a3f5f"
            },
            "marker": {
             "line": {
              "color": "#E5ECF6",
              "width": 0.5
             },
             "pattern": {
              "fillmode": "overlay",
              "size": 10,
              "solidity": 0.2
             }
            },
            "type": "bar"
           }
          ],
          "barpolar": [
           {
            "marker": {
             "line": {
              "color": "#E5ECF6",
              "width": 0.5
             },
             "pattern": {
              "fillmode": "overlay",
              "size": 10,
              "solidity": 0.2
             }
            },
            "type": "barpolar"
           }
          ],
          "carpet": [
           {
            "aaxis": {
             "endlinecolor": "#2a3f5f",
             "gridcolor": "white",
             "linecolor": "white",
             "minorgridcolor": "white",
             "startlinecolor": "#2a3f5f"
            },
            "baxis": {
             "endlinecolor": "#2a3f5f",
             "gridcolor": "white",
             "linecolor": "white",
             "minorgridcolor": "white",
             "startlinecolor": "#2a3f5f"
            },
            "type": "carpet"
           }
          ],
          "choropleth": [
           {
            "colorbar": {
             "outlinewidth": 0,
             "ticks": ""
            },
            "type": "choropleth"
           }
          ],
          "contour": [
           {
            "colorbar": {
             "outlinewidth": 0,
             "ticks": ""
            },
            "colorscale": [
             [
              0,
              "#0d0887"
             ],
             [
              0.1111111111111111,
              "#46039f"
             ],
             [
              0.2222222222222222,
              "#7201a8"
             ],
             [
              0.3333333333333333,
              "#9c179e"
             ],
             [
              0.4444444444444444,
              "#bd3786"
             ],
             [
              0.5555555555555556,
              "#d8576b"
             ],
             [
              0.6666666666666666,
              "#ed7953"
             ],
             [
              0.7777777777777778,
              "#fb9f3a"
             ],
             [
              0.8888888888888888,
              "#fdca26"
             ],
             [
              1,
              "#f0f921"
             ]
            ],
            "type": "contour"
           }
          ],
          "contourcarpet": [
           {
            "colorbar": {
             "outlinewidth": 0,
             "ticks": ""
            },
            "type": "contourcarpet"
           }
          ],
          "heatmap": [
           {
            "colorbar": {
             "outlinewidth": 0,
             "ticks": ""
            },
            "colorscale": [
             [
              0,
              "#0d0887"
             ],
             [
              0.1111111111111111,
              "#46039f"
             ],
             [
              0.2222222222222222,
              "#7201a8"
             ],
             [
              0.3333333333333333,
              "#9c179e"
             ],
             [
              0.4444444444444444,
              "#bd3786"
             ],
             [
              0.5555555555555556,
              "#d8576b"
             ],
             [
              0.6666666666666666,
              "#ed7953"
             ],
             [
              0.7777777777777778,
              "#fb9f3a"
             ],
             [
              0.8888888888888888,
              "#fdca26"
             ],
             [
              1,
              "#f0f921"
             ]
            ],
            "type": "heatmap"
           }
          ],
          "heatmapgl": [
           {
            "colorbar": {
             "outlinewidth": 0,
             "ticks": ""
            },
            "colorscale": [
             [
              0,
              "#0d0887"
             ],
             [
              0.1111111111111111,
              "#46039f"
             ],
             [
              0.2222222222222222,
              "#7201a8"
             ],
             [
              0.3333333333333333,
              "#9c179e"
             ],
             [
              0.4444444444444444,
              "#bd3786"
             ],
             [
              0.5555555555555556,
              "#d8576b"
             ],
             [
              0.6666666666666666,
              "#ed7953"
             ],
             [
              0.7777777777777778,
              "#fb9f3a"
             ],
             [
              0.8888888888888888,
              "#fdca26"
             ],
             [
              1,
              "#f0f921"
             ]
            ],
            "type": "heatmapgl"
           }
          ],
          "histogram": [
           {
            "marker": {
             "pattern": {
              "fillmode": "overlay",
              "size": 10,
              "solidity": 0.2
             }
            },
            "type": "histogram"
           }
          ],
          "histogram2d": [
           {
            "colorbar": {
             "outlinewidth": 0,
             "ticks": ""
            },
            "colorscale": [
             [
              0,
              "#0d0887"
             ],
             [
              0.1111111111111111,
              "#46039f"
             ],
             [
              0.2222222222222222,
              "#7201a8"
             ],
             [
              0.3333333333333333,
              "#9c179e"
             ],
             [
              0.4444444444444444,
              "#bd3786"
             ],
             [
              0.5555555555555556,
              "#d8576b"
             ],
             [
              0.6666666666666666,
              "#ed7953"
             ],
             [
              0.7777777777777778,
              "#fb9f3a"
             ],
             [
              0.8888888888888888,
              "#fdca26"
             ],
             [
              1,
              "#f0f921"
             ]
            ],
            "type": "histogram2d"
           }
          ],
          "histogram2dcontour": [
           {
            "colorbar": {
             "outlinewidth": 0,
             "ticks": ""
            },
            "colorscale": [
             [
              0,
              "#0d0887"
             ],
             [
              0.1111111111111111,
              "#46039f"
             ],
             [
              0.2222222222222222,
              "#7201a8"
             ],
             [
              0.3333333333333333,
              "#9c179e"
             ],
             [
              0.4444444444444444,
              "#bd3786"
             ],
             [
              0.5555555555555556,
              "#d8576b"
             ],
             [
              0.6666666666666666,
              "#ed7953"
             ],
             [
              0.7777777777777778,
              "#fb9f3a"
             ],
             [
              0.8888888888888888,
              "#fdca26"
             ],
             [
              1,
              "#f0f921"
             ]
            ],
            "type": "histogram2dcontour"
           }
          ],
          "mesh3d": [
           {
            "colorbar": {
             "outlinewidth": 0,
             "ticks": ""
            },
            "type": "mesh3d"
           }
          ],
          "parcoords": [
           {
            "line": {
             "colorbar": {
              "outlinewidth": 0,
              "ticks": ""
             }
            },
            "type": "parcoords"
           }
          ],
          "pie": [
           {
            "automargin": true,
            "type": "pie"
           }
          ],
          "scatter": [
           {
            "fillpattern": {
             "fillmode": "overlay",
             "size": 10,
             "solidity": 0.2
            },
            "type": "scatter"
           }
          ],
          "scatter3d": [
           {
            "line": {
             "colorbar": {
              "outlinewidth": 0,
              "ticks": ""
             }
            },
            "marker": {
             "colorbar": {
              "outlinewidth": 0,
              "ticks": ""
             }
            },
            "type": "scatter3d"
           }
          ],
          "scattercarpet": [
           {
            "marker": {
             "colorbar": {
              "outlinewidth": 0,
              "ticks": ""
             }
            },
            "type": "scattercarpet"
           }
          ],
          "scattergeo": [
           {
            "marker": {
             "colorbar": {
              "outlinewidth": 0,
              "ticks": ""
             }
            },
            "type": "scattergeo"
           }
          ],
          "scattergl": [
           {
            "marker": {
             "colorbar": {
              "outlinewidth": 0,
              "ticks": ""
             }
            },
            "type": "scattergl"
           }
          ],
          "scattermapbox": [
           {
            "marker": {
             "colorbar": {
              "outlinewidth": 0,
              "ticks": ""
             }
            },
            "type": "scattermapbox"
           }
          ],
          "scatterpolar": [
           {
            "marker": {
             "colorbar": {
              "outlinewidth": 0,
              "ticks": ""
             }
            },
            "type": "scatterpolar"
           }
          ],
          "scatterpolargl": [
           {
            "marker": {
             "colorbar": {
              "outlinewidth": 0,
              "ticks": ""
             }
            },
            "type": "scatterpolargl"
           }
          ],
          "scatterternary": [
           {
            "marker": {
             "colorbar": {
              "outlinewidth": 0,
              "ticks": ""
             }
            },
            "type": "scatterternary"
           }
          ],
          "surface": [
           {
            "colorbar": {
             "outlinewidth": 0,
             "ticks": ""
            },
            "colorscale": [
             [
              0,
              "#0d0887"
             ],
             [
              0.1111111111111111,
              "#46039f"
             ],
             [
              0.2222222222222222,
              "#7201a8"
             ],
             [
              0.3333333333333333,
              "#9c179e"
             ],
             [
              0.4444444444444444,
              "#bd3786"
             ],
             [
              0.5555555555555556,
              "#d8576b"
             ],
             [
              0.6666666666666666,
              "#ed7953"
             ],
             [
              0.7777777777777778,
              "#fb9f3a"
             ],
             [
              0.8888888888888888,
              "#fdca26"
             ],
             [
              1,
              "#f0f921"
             ]
            ],
            "type": "surface"
           }
          ],
          "table": [
           {
            "cells": {
             "fill": {
              "color": "#EBF0F8"
             },
             "line": {
              "color": "white"
             }
            },
            "header": {
             "fill": {
              "color": "#C8D4E3"
             },
             "line": {
              "color": "white"
             }
            },
            "type": "table"
           }
          ]
         },
         "layout": {
          "annotationdefaults": {
           "arrowcolor": "#2a3f5f",
           "arrowhead": 0,
           "arrowwidth": 1
          },
          "autotypenumbers": "strict",
          "coloraxis": {
           "colorbar": {
            "outlinewidth": 0,
            "ticks": ""
           }
          },
          "colorscale": {
           "diverging": [
            [
             0,
             "#8e0152"
            ],
            [
             0.1,
             "#c51b7d"
            ],
            [
             0.2,
             "#de77ae"
            ],
            [
             0.3,
             "#f1b6da"
            ],
            [
             0.4,
             "#fde0ef"
            ],
            [
             0.5,
             "#f7f7f7"
            ],
            [
             0.6,
             "#e6f5d0"
            ],
            [
             0.7,
             "#b8e186"
            ],
            [
             0.8,
             "#7fbc41"
            ],
            [
             0.9,
             "#4d9221"
            ],
            [
             1,
             "#276419"
            ]
           ],
           "sequential": [
            [
             0,
             "#0d0887"
            ],
            [
             0.1111111111111111,
             "#46039f"
            ],
            [
             0.2222222222222222,
             "#7201a8"
            ],
            [
             0.3333333333333333,
             "#9c179e"
            ],
            [
             0.4444444444444444,
             "#bd3786"
            ],
            [
             0.5555555555555556,
             "#d8576b"
            ],
            [
             0.6666666666666666,
             "#ed7953"
            ],
            [
             0.7777777777777778,
             "#fb9f3a"
            ],
            [
             0.8888888888888888,
             "#fdca26"
            ],
            [
             1,
             "#f0f921"
            ]
           ],
           "sequentialminus": [
            [
             0,
             "#0d0887"
            ],
            [
             0.1111111111111111,
             "#46039f"
            ],
            [
             0.2222222222222222,
             "#7201a8"
            ],
            [
             0.3333333333333333,
             "#9c179e"
            ],
            [
             0.4444444444444444,
             "#bd3786"
            ],
            [
             0.5555555555555556,
             "#d8576b"
            ],
            [
             0.6666666666666666,
             "#ed7953"
            ],
            [
             0.7777777777777778,
             "#fb9f3a"
            ],
            [
             0.8888888888888888,
             "#fdca26"
            ],
            [
             1,
             "#f0f921"
            ]
           ]
          },
          "colorway": [
           "#636efa",
           "#EF553B",
           "#00cc96",
           "#ab63fa",
           "#FFA15A",
           "#19d3f3",
           "#FF6692",
           "#B6E880",
           "#FF97FF",
           "#FECB52"
          ],
          "font": {
           "color": "#2a3f5f"
          },
          "geo": {
           "bgcolor": "white",
           "lakecolor": "white",
           "landcolor": "#E5ECF6",
           "showlakes": true,
           "showland": true,
           "subunitcolor": "white"
          },
          "hoverlabel": {
           "align": "left"
          },
          "hovermode": "closest",
          "mapbox": {
           "style": "light"
          },
          "paper_bgcolor": "white",
          "plot_bgcolor": "#E5ECF6",
          "polar": {
           "angularaxis": {
            "gridcolor": "white",
            "linecolor": "white",
            "ticks": ""
           },
           "bgcolor": "#E5ECF6",
           "radialaxis": {
            "gridcolor": "white",
            "linecolor": "white",
            "ticks": ""
           }
          },
          "scene": {
           "xaxis": {
            "backgroundcolor": "#E5ECF6",
            "gridcolor": "white",
            "gridwidth": 2,
            "linecolor": "white",
            "showbackground": true,
            "ticks": "",
            "zerolinecolor": "white"
           },
           "yaxis": {
            "backgroundcolor": "#E5ECF6",
            "gridcolor": "white",
            "gridwidth": 2,
            "linecolor": "white",
            "showbackground": true,
            "ticks": "",
            "zerolinecolor": "white"
           },
           "zaxis": {
            "backgroundcolor": "#E5ECF6",
            "gridcolor": "white",
            "gridwidth": 2,
            "linecolor": "white",
            "showbackground": true,
            "ticks": "",
            "zerolinecolor": "white"
           }
          },
          "shapedefaults": {
           "line": {
            "color": "#2a3f5f"
           }
          },
          "ternary": {
           "aaxis": {
            "gridcolor": "white",
            "linecolor": "white",
            "ticks": ""
           },
           "baxis": {
            "gridcolor": "white",
            "linecolor": "white",
            "ticks": ""
           },
           "bgcolor": "#E5ECF6",
           "caxis": {
            "gridcolor": "white",
            "linecolor": "white",
            "ticks": ""
           }
          },
          "title": {
           "x": 0.05
          },
          "xaxis": {
           "automargin": true,
           "gridcolor": "white",
           "linecolor": "white",
           "ticks": "",
           "title": {
            "standoff": 15
           },
           "zerolinecolor": "white",
           "zerolinewidth": 2
          },
          "yaxis": {
           "automargin": true,
           "gridcolor": "white",
           "linecolor": "white",
           "ticks": "",
           "title": {
            "standoff": 15
           },
           "zerolinecolor": "white",
           "zerolinewidth": 2
          }
         }
        },
        "title": {
         "text": "Spread Level by Residual Maturity and Rating Subcategory"
        },
        "xaxis": {
         "anchor": "y",
         "domain": [
          0,
          1
         ],
         "title": {
          "text": "Residual Maturity"
         }
        },
        "yaxis": {
         "anchor": "x",
         "domain": [
          0,
          1
         ],
         "title": {
          "text": "Spread Level"
         }
        }
       }
      },
      "text/html": [
       "<div>                            <div id=\"54f0dc49-862c-47b7-a74b-65d38fb9973e\" class=\"plotly-graph-div\" style=\"height:525px; width:100%;\"></div>            <script type=\"text/javascript\">                require([\"plotly\"], function(Plotly) {                    window.PLOTLYENV=window.PLOTLYENV || {};                                    if (document.getElementById(\"54f0dc49-862c-47b7-a74b-65d38fb9973e\")) {                    Plotly.newPlot(                        \"54f0dc49-862c-47b7-a74b-65d38fb9973e\",                        [{\"hovertemplate\":\"Rating Subcategory=Investment Grade\\u003cbr\\u003eResidual Maturity=%{x}\\u003cbr\\u003eSpread Level=%{y}\\u003cextra\\u003e\\u003c\\u002fextra\\u003e\",\"legendgroup\":\"Investment Grade\",\"marker\":{\"color\":\"#636efa\",\"symbol\":\"circle\"},\"mode\":\"markers\",\"name\":\"Investment Grade\",\"orientation\":\"v\",\"showlegend\":true,\"x\":[5,0,4,0,1,5,2,1,5,2,1,2,0,3,1,3,0,5,3,1,2,5,5,1,1,5,3,5,3,3,3,3,3,1,5,2,2,4,1,4,5,0,4,0],\"xaxis\":\"x\",\"y\":[2.953229911665306,2.2687026894027276,2.0618691666342728,1.739308912122809,1.4843198765548518,2.6062795127597917,2.966846281789686,2.632863746438768,2.596690249969102,2.016397553481437,2.03550270105496,2.675420211814656,2.4704322384815445,2.082895947655132,2.391568798690164,1.3499098541918724,1.521658349660818,2.9308387025775873,1.3774142166827588,2.4007156599455426,2.712648583756185,2.7018568975350252,2.570681302227887,2.337976509428457,2.1613732428729096,1.7445655331234862,2.9473276735106344,1.9712275071724532,2.9889149252216414,1.3576454184426576,2.4883410461131246,2.957785716550018,1.8687887310208573,1.7001568153893514,2.2902067240611297,2.3378481193261993,1.4603705364831105,1.0872075435088675,2.9891010215946823,1.939889027981886,1.5591206835935172,2.7669880445325177,2.9061436940479064,1.6615006093410274],\"yaxis\":\"y\",\"type\":\"scatter\"},{\"hovertemplate\":\"Rating Subcategory=Speculative Grade\\u003cbr\\u003eResidual Maturity=%{x}\\u003cbr\\u003eSpread Level=%{y}\\u003cextra\\u003e\\u003c\\u002fextra\\u003e\",\"legendgroup\":\"Speculative Grade\",\"marker\":{\"color\":\"#EF553B\",\"symbol\":\"circle\"},\"mode\":\"markers\",\"name\":\"Speculative Grade\",\"orientation\":\"v\",\"showlegend\":true,\"x\":[4,2,3,3,4,0,2,1,1,5,1,1,1,1,0,0,0,2,5,4,1,1,4,0,4,3,5,3,2,1,5,0,1,4,0,1,5,2,4,0,4,3,4,3,5,4,3,5,2,4,1,0,3,1,1,3],\"xaxis\":\"x\",\"y\":[1.8220740266364626,1.0661014658010968,1.690142496053366,2.3614109031095336,1.8955663291461833,2.105786178142656,2.185393447758787,1.1617066526654305,1.9406012688920768,1.7976488848891061,1.301435087930859,2.3916256135817635,2.7167176096274397,1.6519178104037695,1.4404820951310966,2.422299064876036,2.619002092279431,1.6973319745834587,1.1923531021828415,2.881046528979208,1.7951440421750446,2.3513802340785617,1.4181432414754274,1.4571000435945993,2.9643366866588714,2.0332717825420286,2.9925073995158487,2.116586907214195,2.7652726863786796,1.5577427051843638,2.693322284476612,1.8090162542443802,2.7755401975219196,2.8712699884418953,2.8802668849155566,1.5678419494749314,1.610727720688787,1.8968482859724947,1.3518505053546908,1.0361507272310417,1.9877874303668692,1.7329375691657198,2.4418798485042585,1.6161215837047784,2.085080461109799,2.01762815367752,2.2726652363717905,1.5009236372111683,2.1797416951210877,1.9734843059189102,2.812197575437108,2.7283351301438064,1.9983867597695046,2.144008398418366,2.537108028612618,2.495437547794828],\"yaxis\":\"y\",\"type\":\"scatter\"},{\"line\":{\"dash\":\"dash\"},\"mode\":\"lines\",\"name\":\"Average Spread (All Ratings)\",\"x\":[0,1,2,3,4,5],\"y\":[2.0618019542733363,2.1234150237379974,2.163351736855573,2.0964435730619133,2.1080117651555486,2.223368265574085],\"type\":\"scatter\"},{\"line\":{\"dash\":\"dash\"},\"mode\":\"lines\",\"name\":\"Average Spread (Investment Grade)\",\"visible\":\"legendonly\",\"x\":[0,1,2,3,4,5],\"y\":[2.0714318072569076,2.2370642635521873,2.3615885477752125,2.1576692810431886,1.998777358043233,2.392469702468529],\"type\":\"scatter\"},{\"line\":{\"dash\":\"dash\"},\"mode\":\"lines\",\"name\":\"Average Spread (Speculative Grade)\",\"visible\":\"legendonly\",\"x\":[0,1,2,3,4,5],\"y\":[2.055382052284289,2.050354798143161,1.965114925935934,2.035217865080638,2.147733367741845,1.9817947842963088],\"type\":\"scatter\"}],                        {\"template\":{\"data\":{\"histogram2dcontour\":[{\"type\":\"histogram2dcontour\",\"colorbar\":{\"outlinewidth\":0,\"ticks\":\"\"},\"colorscale\":[[0.0,\"#0d0887\"],[0.1111111111111111,\"#46039f\"],[0.2222222222222222,\"#7201a8\"],[0.3333333333333333,\"#9c179e\"],[0.4444444444444444,\"#bd3786\"],[0.5555555555555556,\"#d8576b\"],[0.6666666666666666,\"#ed7953\"],[0.7777777777777778,\"#fb9f3a\"],[0.8888888888888888,\"#fdca26\"],[1.0,\"#f0f921\"]]}],\"choropleth\":[{\"type\":\"choropleth\",\"colorbar\":{\"outlinewidth\":0,\"ticks\":\"\"}}],\"histogram2d\":[{\"type\":\"histogram2d\",\"colorbar\":{\"outlinewidth\":0,\"ticks\":\"\"},\"colorscale\":[[0.0,\"#0d0887\"],[0.1111111111111111,\"#46039f\"],[0.2222222222222222,\"#7201a8\"],[0.3333333333333333,\"#9c179e\"],[0.4444444444444444,\"#bd3786\"],[0.5555555555555556,\"#d8576b\"],[0.6666666666666666,\"#ed7953\"],[0.7777777777777778,\"#fb9f3a\"],[0.8888888888888888,\"#fdca26\"],[1.0,\"#f0f921\"]]}],\"heatmap\":[{\"type\":\"heatmap\",\"colorbar\":{\"outlinewidth\":0,\"ticks\":\"\"},\"colorscale\":[[0.0,\"#0d0887\"],[0.1111111111111111,\"#46039f\"],[0.2222222222222222,\"#7201a8\"],[0.3333333333333333,\"#9c179e\"],[0.4444444444444444,\"#bd3786\"],[0.5555555555555556,\"#d8576b\"],[0.6666666666666666,\"#ed7953\"],[0.7777777777777778,\"#fb9f3a\"],[0.8888888888888888,\"#fdca26\"],[1.0,\"#f0f921\"]]}],\"heatmapgl\":[{\"type\":\"heatmapgl\",\"colorbar\":{\"outlinewidth\":0,\"ticks\":\"\"},\"colorscale\":[[0.0,\"#0d0887\"],[0.1111111111111111,\"#46039f\"],[0.2222222222222222,\"#7201a8\"],[0.3333333333333333,\"#9c179e\"],[0.4444444444444444,\"#bd3786\"],[0.5555555555555556,\"#d8576b\"],[0.6666666666666666,\"#ed7953\"],[0.7777777777777778,\"#fb9f3a\"],[0.8888888888888888,\"#fdca26\"],[1.0,\"#f0f921\"]]}],\"contourcarpet\":[{\"type\":\"contourcarpet\",\"colorbar\":{\"outlinewidth\":0,\"ticks\":\"\"}}],\"contour\":[{\"type\":\"contour\",\"colorbar\":{\"outlinewidth\":0,\"ticks\":\"\"},\"colorscale\":[[0.0,\"#0d0887\"],[0.1111111111111111,\"#46039f\"],[0.2222222222222222,\"#7201a8\"],[0.3333333333333333,\"#9c179e\"],[0.4444444444444444,\"#bd3786\"],[0.5555555555555556,\"#d8576b\"],[0.6666666666666666,\"#ed7953\"],[0.7777777777777778,\"#fb9f3a\"],[0.8888888888888888,\"#fdca26\"],[1.0,\"#f0f921\"]]}],\"surface\":[{\"type\":\"surface\",\"colorbar\":{\"outlinewidth\":0,\"ticks\":\"\"},\"colorscale\":[[0.0,\"#0d0887\"],[0.1111111111111111,\"#46039f\"],[0.2222222222222222,\"#7201a8\"],[0.3333333333333333,\"#9c179e\"],[0.4444444444444444,\"#bd3786\"],[0.5555555555555556,\"#d8576b\"],[0.6666666666666666,\"#ed7953\"],[0.7777777777777778,\"#fb9f3a\"],[0.8888888888888888,\"#fdca26\"],[1.0,\"#f0f921\"]]}],\"mesh3d\":[{\"type\":\"mesh3d\",\"colorbar\":{\"outlinewidth\":0,\"ticks\":\"\"}}],\"scatter\":[{\"fillpattern\":{\"fillmode\":\"overlay\",\"size\":10,\"solidity\":0.2},\"type\":\"scatter\"}],\"parcoords\":[{\"type\":\"parcoords\",\"line\":{\"colorbar\":{\"outlinewidth\":0,\"ticks\":\"\"}}}],\"scatterpolargl\":[{\"type\":\"scatterpolargl\",\"marker\":{\"colorbar\":{\"outlinewidth\":0,\"ticks\":\"\"}}}],\"bar\":[{\"error_x\":{\"color\":\"#2a3f5f\"},\"error_y\":{\"color\":\"#2a3f5f\"},\"marker\":{\"line\":{\"color\":\"#E5ECF6\",\"width\":0.5},\"pattern\":{\"fillmode\":\"overlay\",\"size\":10,\"solidity\":0.2}},\"type\":\"bar\"}],\"scattergeo\":[{\"type\":\"scattergeo\",\"marker\":{\"colorbar\":{\"outlinewidth\":0,\"ticks\":\"\"}}}],\"scatterpolar\":[{\"type\":\"scatterpolar\",\"marker\":{\"colorbar\":{\"outlinewidth\":0,\"ticks\":\"\"}}}],\"histogram\":[{\"marker\":{\"pattern\":{\"fillmode\":\"overlay\",\"size\":10,\"solidity\":0.2}},\"type\":\"histogram\"}],\"scattergl\":[{\"type\":\"scattergl\",\"marker\":{\"colorbar\":{\"outlinewidth\":0,\"ticks\":\"\"}}}],\"scatter3d\":[{\"type\":\"scatter3d\",\"line\":{\"colorbar\":{\"outlinewidth\":0,\"ticks\":\"\"}},\"marker\":{\"colorbar\":{\"outlinewidth\":0,\"ticks\":\"\"}}}],\"scattermapbox\":[{\"type\":\"scattermapbox\",\"marker\":{\"colorbar\":{\"outlinewidth\":0,\"ticks\":\"\"}}}],\"scatterternary\":[{\"type\":\"scatterternary\",\"marker\":{\"colorbar\":{\"outlinewidth\":0,\"ticks\":\"\"}}}],\"scattercarpet\":[{\"type\":\"scattercarpet\",\"marker\":{\"colorbar\":{\"outlinewidth\":0,\"ticks\":\"\"}}}],\"carpet\":[{\"aaxis\":{\"endlinecolor\":\"#2a3f5f\",\"gridcolor\":\"white\",\"linecolor\":\"white\",\"minorgridcolor\":\"white\",\"startlinecolor\":\"#2a3f5f\"},\"baxis\":{\"endlinecolor\":\"#2a3f5f\",\"gridcolor\":\"white\",\"linecolor\":\"white\",\"minorgridcolor\":\"white\",\"startlinecolor\":\"#2a3f5f\"},\"type\":\"carpet\"}],\"table\":[{\"cells\":{\"fill\":{\"color\":\"#EBF0F8\"},\"line\":{\"color\":\"white\"}},\"header\":{\"fill\":{\"color\":\"#C8D4E3\"},\"line\":{\"color\":\"white\"}},\"type\":\"table\"}],\"barpolar\":[{\"marker\":{\"line\":{\"color\":\"#E5ECF6\",\"width\":0.5},\"pattern\":{\"fillmode\":\"overlay\",\"size\":10,\"solidity\":0.2}},\"type\":\"barpolar\"}],\"pie\":[{\"automargin\":true,\"type\":\"pie\"}]},\"layout\":{\"autotypenumbers\":\"strict\",\"colorway\":[\"#636efa\",\"#EF553B\",\"#00cc96\",\"#ab63fa\",\"#FFA15A\",\"#19d3f3\",\"#FF6692\",\"#B6E880\",\"#FF97FF\",\"#FECB52\"],\"font\":{\"color\":\"#2a3f5f\"},\"hovermode\":\"closest\",\"hoverlabel\":{\"align\":\"left\"},\"paper_bgcolor\":\"white\",\"plot_bgcolor\":\"#E5ECF6\",\"polar\":{\"bgcolor\":\"#E5ECF6\",\"angularaxis\":{\"gridcolor\":\"white\",\"linecolor\":\"white\",\"ticks\":\"\"},\"radialaxis\":{\"gridcolor\":\"white\",\"linecolor\":\"white\",\"ticks\":\"\"}},\"ternary\":{\"bgcolor\":\"#E5ECF6\",\"aaxis\":{\"gridcolor\":\"white\",\"linecolor\":\"white\",\"ticks\":\"\"},\"baxis\":{\"gridcolor\":\"white\",\"linecolor\":\"white\",\"ticks\":\"\"},\"caxis\":{\"gridcolor\":\"white\",\"linecolor\":\"white\",\"ticks\":\"\"}},\"coloraxis\":{\"colorbar\":{\"outlinewidth\":0,\"ticks\":\"\"}},\"colorscale\":{\"sequential\":[[0.0,\"#0d0887\"],[0.1111111111111111,\"#46039f\"],[0.2222222222222222,\"#7201a8\"],[0.3333333333333333,\"#9c179e\"],[0.4444444444444444,\"#bd3786\"],[0.5555555555555556,\"#d8576b\"],[0.6666666666666666,\"#ed7953\"],[0.7777777777777778,\"#fb9f3a\"],[0.8888888888888888,\"#fdca26\"],[1.0,\"#f0f921\"]],\"sequentialminus\":[[0.0,\"#0d0887\"],[0.1111111111111111,\"#46039f\"],[0.2222222222222222,\"#7201a8\"],[0.3333333333333333,\"#9c179e\"],[0.4444444444444444,\"#bd3786\"],[0.5555555555555556,\"#d8576b\"],[0.6666666666666666,\"#ed7953\"],[0.7777777777777778,\"#fb9f3a\"],[0.8888888888888888,\"#fdca26\"],[1.0,\"#f0f921\"]],\"diverging\":[[0,\"#8e0152\"],[0.1,\"#c51b7d\"],[0.2,\"#de77ae\"],[0.3,\"#f1b6da\"],[0.4,\"#fde0ef\"],[0.5,\"#f7f7f7\"],[0.6,\"#e6f5d0\"],[0.7,\"#b8e186\"],[0.8,\"#7fbc41\"],[0.9,\"#4d9221\"],[1,\"#276419\"]]},\"xaxis\":{\"gridcolor\":\"white\",\"linecolor\":\"white\",\"ticks\":\"\",\"title\":{\"standoff\":15},\"zerolinecolor\":\"white\",\"automargin\":true,\"zerolinewidth\":2},\"yaxis\":{\"gridcolor\":\"white\",\"linecolor\":\"white\",\"ticks\":\"\",\"title\":{\"standoff\":15},\"zerolinecolor\":\"white\",\"automargin\":true,\"zerolinewidth\":2},\"scene\":{\"xaxis\":{\"backgroundcolor\":\"#E5ECF6\",\"gridcolor\":\"white\",\"linecolor\":\"white\",\"showbackground\":true,\"ticks\":\"\",\"zerolinecolor\":\"white\",\"gridwidth\":2},\"yaxis\":{\"backgroundcolor\":\"#E5ECF6\",\"gridcolor\":\"white\",\"linecolor\":\"white\",\"showbackground\":true,\"ticks\":\"\",\"zerolinecolor\":\"white\",\"gridwidth\":2},\"zaxis\":{\"backgroundcolor\":\"#E5ECF6\",\"gridcolor\":\"white\",\"linecolor\":\"white\",\"showbackground\":true,\"ticks\":\"\",\"zerolinecolor\":\"white\",\"gridwidth\":2}},\"shapedefaults\":{\"line\":{\"color\":\"#2a3f5f\"}},\"annotationdefaults\":{\"arrowcolor\":\"#2a3f5f\",\"arrowhead\":0,\"arrowwidth\":1},\"geo\":{\"bgcolor\":\"white\",\"landcolor\":\"#E5ECF6\",\"subunitcolor\":\"white\",\"showland\":true,\"showlakes\":true,\"lakecolor\":\"white\"},\"title\":{\"x\":0.05},\"mapbox\":{\"style\":\"light\"}}},\"xaxis\":{\"anchor\":\"y\",\"domain\":[0.0,1.0],\"title\":{\"text\":\"Residual Maturity\"}},\"yaxis\":{\"anchor\":\"x\",\"domain\":[0.0,1.0],\"title\":{\"text\":\"Spread Level\"}},\"legend\":{\"title\":{\"text\":\"Rating Subcategory\"},\"tracegroupgap\":0},\"title\":{\"text\":\"Spread Level by Residual Maturity and Rating Subcategory\"}},                        {\"responsive\": true}                    ).then(function(){\n",
       "                            \n",
       "var gd = document.getElementById('54f0dc49-862c-47b7-a74b-65d38fb9973e');\n",
       "var x = new MutationObserver(function (mutations, observer) {{\n",
       "        var display = window.getComputedStyle(gd).display;\n",
       "        if (!display || display === 'none') {{\n",
       "            console.log([gd, 'removed!']);\n",
       "            Plotly.purge(gd);\n",
       "            observer.disconnect();\n",
       "        }}\n",
       "}});\n",
       "\n",
       "// Listen for the removal of the full notebook cells\n",
       "var notebookContainer = gd.closest('#notebook-container');\n",
       "if (notebookContainer) {{\n",
       "    x.observe(notebookContainer, {childList: true});\n",
       "}}\n",
       "\n",
       "// Listen for the clearing of the current output cell\n",
       "var outputEl = gd.closest('.output');\n",
       "if (outputEl) {{\n",
       "    x.observe(outputEl, {childList: true});\n",
       "}}\n",
       "\n",
       "                        })                };                });            </script>        </div>"
      ]
     },
     "metadata": {},
     "output_type": "display_data"
    }
   ],
   "source": [
    "import plotly.express as px\n",
    "\n",
    "# Define subcategories for Investment Grade and Speculative Grade\n",
    "investment_subcategories = ['AAA', 'AA+', 'AA', 'A+', 'A', 'A-', 'BBB+', 'BBB', 'BBB-']\n",
    "speculative_subcategories = ['BB+', 'BB', 'BB-', 'B+', 'B', 'B-', 'CCC+', 'CCC', 'CCC-', 'CC', 'C', 'D']\n",
    "\n",
    "# Create a new column for rating subcategory\n",
    "df['Rating Subcategory'] = np.where(df['Rating'].isin(investment_subcategories), 'Investment Grade', 'Speculative Grade')\n",
    "\n",
    "# Calculate the average spread level for each rating subcategory\n",
    "avg_spread_by_subcategory = df.groupby(['Rating Subcategory', 'Residual Maturity'])['Spread Level'].mean().reset_index()\n",
    "\n",
    "# Plot the graph\n",
    "fig = px.scatter(df, x='Residual Maturity', y='Spread Level', color='Rating Subcategory', title='Spread Level by Residual Maturity and Rating Subcategory',\n",
    "                 category_orders={'Rating Subcategory': ['Investment Grade', 'Speculative Grade']},\n",
    "                 labels={'Residual Maturity': 'Residual Maturity', 'Spread Level': 'Spread Level', 'Rating Subcategory': 'Rating Subcategory'})\n",
    "\n",
    "# Add the curve for the whole dataset averaging all ratings\n",
    "avg_spread_all = df.groupby('Residual Maturity')['Spread Level'].mean().reset_index()\n",
    "fig.add_scatter(x=avg_spread_all['Residual Maturity'], y=avg_spread_all['Spread Level'], mode='lines', line=dict(dash='dash'), name='Average Spread (All Ratings)')\n",
    "\n",
    "for subcategory in avg_spread_by_subcategory['Rating Subcategory'].unique():\n",
    "    avg_data = avg_spread_by_subcategory[avg_spread_by_subcategory['Rating Subcategory'] == subcategory]\n",
    "    fig.add_scatter(x=avg_data['Residual Maturity'], y=avg_data['Spread Level'], mode='lines', line=dict(dash='dash'), name=f'Average Spread ({subcategory})', visible='legendonly')\n",
    "\n",
    "fig.show()\n"
   ]
  },
  {
   "cell_type": "code",
   "execution_count": 13,
   "id": "6d148897",
   "metadata": {},
   "outputs": [
    {
     "data": {
      "application/vnd.plotly.v1+json": {
       "config": {
        "plotlyServerURL": "https://plot.ly"
       },
       "data": [
        {
         "mode": "markers",
         "name": "Energy",
         "type": "scatter",
         "visible": true,
         "x": [
          5,
          2,
          0,
          0,
          4,
          1,
          1,
          0,
          5,
          2,
          0,
          1,
          5,
          5,
          0,
          3,
          1,
          3,
          1
         ],
         "y": [
          2.953229911665306,
          1.0661014658010968,
          2.105786178142656,
          2.422299064876036,
          2.881046528979208,
          2.03550270105496,
          2.391568798690164,
          1.521658349660818,
          2.693322284476612,
          2.712648583756185,
          1.8090162542443802,
          2.7755401975219196,
          2.7018568975350252,
          1.7445655331234862,
          1.0361507272310417,
          2.957785716550018,
          1.7001568153893514,
          1.9983867597695046,
          2.144008398418366
         ]
        },
        {
         "mode": "markers",
         "name": "Finance",
         "type": "scatter",
         "visible": false,
         "x": [
          4,
          0,
          1,
          1,
          1,
          5,
          3,
          0,
          1,
          5,
          5,
          4,
          3,
          3,
          3,
          3,
          5,
          0,
          4,
          0,
          3,
          0
         ],
         "y": [
          1.8220740266364626,
          2.2687026894027276,
          1.4843198765548518,
          2.632863746438768,
          2.7167176096274397,
          1.1923531021828415,
          1.3774142166827588,
          2.8802668849155566,
          1.5678419494749314,
          1.610727720688787,
          1.9712275071724532,
          1.3518505053546908,
          1.3576454184426576,
          1.6161215837047784,
          2.2726652363717905,
          1.8687887310208573,
          2.2902067240611297,
          2.7283351301438064,
          1.939889027981886,
          2.7669880445325177,
          2.495437547794828,
          1.6615006093410274
         ]
        },
        {
         "mode": "markers",
         "name": "Technology",
         "type": "scatter",
         "visible": false,
         "x": [
          3,
          1,
          1,
          0,
          5,
          5,
          1,
          2,
          2,
          4
         ],
         "y": [
          1.690142496053366,
          1.301435087930859,
          1.6519178104037695,
          1.4404820951310966,
          2.9925073995158487,
          2.9308387025775873,
          2.1613732428729096,
          2.1797416951210877,
          1.4603705364831105,
          1.0872075435088675
         ]
        },
        {
         "mode": "markers",
         "name": "Telecommunications",
         "type": "scatter",
         "visible": false,
         "x": [
          3,
          2,
          2,
          2,
          2,
          3,
          2,
          1,
          4,
          5,
          3,
          3,
          3,
          5,
          1,
          2,
          1
         ],
         "y": [
          2.3614109031095336,
          2.185393447758787,
          2.966846281789686,
          2.016397553481437,
          2.675420211814656,
          2.0332717825420286,
          2.7652726863786796,
          2.4007156599455426,
          2.8712699884418953,
          2.570681302227887,
          2.9473276735106344,
          2.9889149252216414,
          2.4883410461131246,
          2.085080461109799,
          2.812197575437108,
          2.3378481193261993,
          2.537108028612618
         ]
        },
        {
         "mode": "markers",
         "name": "Consumer Goods",
         "type": "scatter",
         "visible": false,
         "x": [
          4,
          1,
          5,
          0,
          1,
          1,
          0,
          3,
          0,
          3,
          1,
          4,
          4,
          5
         ],
         "y": [
          2.0618691666342728,
          1.9406012688920768,
          2.596690249969102,
          2.619002092279431,
          1.7951440421750446,
          2.3513802340785617,
          2.4704322384815445,
          2.082895947655132,
          1.4571000435945993,
          2.116586907214195,
          1.5577427051843638,
          1.9877874303668692,
          2.01762815367752,
          1.5591206835935172
         ]
        },
        {
         "mode": "markers",
         "name": "Healthcare",
         "type": "scatter",
         "visible": false,
         "x": [
          4,
          1,
          0,
          5,
          5,
          1,
          2,
          4,
          3,
          4,
          1,
          2,
          3,
          4,
          5,
          4,
          1,
          4
         ],
         "y": [
          1.8955663291461833,
          1.1617066526654305,
          1.739308912122809,
          2.6062795127597917,
          1.7976488848891061,
          2.3916256135817635,
          1.6973319745834587,
          1.4181432414754274,
          1.3499098541918724,
          2.9643366866588714,
          2.337976509428457,
          1.8968482859724947,
          1.7329375691657198,
          2.4418798485042585,
          1.5009236372111683,
          1.9734843059189102,
          2.9891010215946823,
          2.9061436940479064
         ]
        },
        {
         "line": {
          "dash": "dash"
         },
         "mode": "lines",
         "name": "Average Spread (All Ratings)",
         "type": "scatter",
         "x": [
          0,
          1,
          2,
          3,
          4,
          5
         ],
         "y": [
          2.0618019542733363,
          2.1234150237379974,
          2.163351736855573,
          2.0964435730619133,
          2.1080117651555486,
          2.223368265574085
         ]
        }
       ],
       "layout": {
        "template": {
         "data": {
          "bar": [
           {
            "error_x": {
             "color": "#2a3f5f"
            },
            "error_y": {
             "color": "#2a3f5f"
            },
            "marker": {
             "line": {
              "color": "#E5ECF6",
              "width": 0.5
             },
             "pattern": {
              "fillmode": "overlay",
              "size": 10,
              "solidity": 0.2
             }
            },
            "type": "bar"
           }
          ],
          "barpolar": [
           {
            "marker": {
             "line": {
              "color": "#E5ECF6",
              "width": 0.5
             },
             "pattern": {
              "fillmode": "overlay",
              "size": 10,
              "solidity": 0.2
             }
            },
            "type": "barpolar"
           }
          ],
          "carpet": [
           {
            "aaxis": {
             "endlinecolor": "#2a3f5f",
             "gridcolor": "white",
             "linecolor": "white",
             "minorgridcolor": "white",
             "startlinecolor": "#2a3f5f"
            },
            "baxis": {
             "endlinecolor": "#2a3f5f",
             "gridcolor": "white",
             "linecolor": "white",
             "minorgridcolor": "white",
             "startlinecolor": "#2a3f5f"
            },
            "type": "carpet"
           }
          ],
          "choropleth": [
           {
            "colorbar": {
             "outlinewidth": 0,
             "ticks": ""
            },
            "type": "choropleth"
           }
          ],
          "contour": [
           {
            "colorbar": {
             "outlinewidth": 0,
             "ticks": ""
            },
            "colorscale": [
             [
              0,
              "#0d0887"
             ],
             [
              0.1111111111111111,
              "#46039f"
             ],
             [
              0.2222222222222222,
              "#7201a8"
             ],
             [
              0.3333333333333333,
              "#9c179e"
             ],
             [
              0.4444444444444444,
              "#bd3786"
             ],
             [
              0.5555555555555556,
              "#d8576b"
             ],
             [
              0.6666666666666666,
              "#ed7953"
             ],
             [
              0.7777777777777778,
              "#fb9f3a"
             ],
             [
              0.8888888888888888,
              "#fdca26"
             ],
             [
              1,
              "#f0f921"
             ]
            ],
            "type": "contour"
           }
          ],
          "contourcarpet": [
           {
            "colorbar": {
             "outlinewidth": 0,
             "ticks": ""
            },
            "type": "contourcarpet"
           }
          ],
          "heatmap": [
           {
            "colorbar": {
             "outlinewidth": 0,
             "ticks": ""
            },
            "colorscale": [
             [
              0,
              "#0d0887"
             ],
             [
              0.1111111111111111,
              "#46039f"
             ],
             [
              0.2222222222222222,
              "#7201a8"
             ],
             [
              0.3333333333333333,
              "#9c179e"
             ],
             [
              0.4444444444444444,
              "#bd3786"
             ],
             [
              0.5555555555555556,
              "#d8576b"
             ],
             [
              0.6666666666666666,
              "#ed7953"
             ],
             [
              0.7777777777777778,
              "#fb9f3a"
             ],
             [
              0.8888888888888888,
              "#fdca26"
             ],
             [
              1,
              "#f0f921"
             ]
            ],
            "type": "heatmap"
           }
          ],
          "heatmapgl": [
           {
            "colorbar": {
             "outlinewidth": 0,
             "ticks": ""
            },
            "colorscale": [
             [
              0,
              "#0d0887"
             ],
             [
              0.1111111111111111,
              "#46039f"
             ],
             [
              0.2222222222222222,
              "#7201a8"
             ],
             [
              0.3333333333333333,
              "#9c179e"
             ],
             [
              0.4444444444444444,
              "#bd3786"
             ],
             [
              0.5555555555555556,
              "#d8576b"
             ],
             [
              0.6666666666666666,
              "#ed7953"
             ],
             [
              0.7777777777777778,
              "#fb9f3a"
             ],
             [
              0.8888888888888888,
              "#fdca26"
             ],
             [
              1,
              "#f0f921"
             ]
            ],
            "type": "heatmapgl"
           }
          ],
          "histogram": [
           {
            "marker": {
             "pattern": {
              "fillmode": "overlay",
              "size": 10,
              "solidity": 0.2
             }
            },
            "type": "histogram"
           }
          ],
          "histogram2d": [
           {
            "colorbar": {
             "outlinewidth": 0,
             "ticks": ""
            },
            "colorscale": [
             [
              0,
              "#0d0887"
             ],
             [
              0.1111111111111111,
              "#46039f"
             ],
             [
              0.2222222222222222,
              "#7201a8"
             ],
             [
              0.3333333333333333,
              "#9c179e"
             ],
             [
              0.4444444444444444,
              "#bd3786"
             ],
             [
              0.5555555555555556,
              "#d8576b"
             ],
             [
              0.6666666666666666,
              "#ed7953"
             ],
             [
              0.7777777777777778,
              "#fb9f3a"
             ],
             [
              0.8888888888888888,
              "#fdca26"
             ],
             [
              1,
              "#f0f921"
             ]
            ],
            "type": "histogram2d"
           }
          ],
          "histogram2dcontour": [
           {
            "colorbar": {
             "outlinewidth": 0,
             "ticks": ""
            },
            "colorscale": [
             [
              0,
              "#0d0887"
             ],
             [
              0.1111111111111111,
              "#46039f"
             ],
             [
              0.2222222222222222,
              "#7201a8"
             ],
             [
              0.3333333333333333,
              "#9c179e"
             ],
             [
              0.4444444444444444,
              "#bd3786"
             ],
             [
              0.5555555555555556,
              "#d8576b"
             ],
             [
              0.6666666666666666,
              "#ed7953"
             ],
             [
              0.7777777777777778,
              "#fb9f3a"
             ],
             [
              0.8888888888888888,
              "#fdca26"
             ],
             [
              1,
              "#f0f921"
             ]
            ],
            "type": "histogram2dcontour"
           }
          ],
          "mesh3d": [
           {
            "colorbar": {
             "outlinewidth": 0,
             "ticks": ""
            },
            "type": "mesh3d"
           }
          ],
          "parcoords": [
           {
            "line": {
             "colorbar": {
              "outlinewidth": 0,
              "ticks": ""
             }
            },
            "type": "parcoords"
           }
          ],
          "pie": [
           {
            "automargin": true,
            "type": "pie"
           }
          ],
          "scatter": [
           {
            "fillpattern": {
             "fillmode": "overlay",
             "size": 10,
             "solidity": 0.2
            },
            "type": "scatter"
           }
          ],
          "scatter3d": [
           {
            "line": {
             "colorbar": {
              "outlinewidth": 0,
              "ticks": ""
             }
            },
            "marker": {
             "colorbar": {
              "outlinewidth": 0,
              "ticks": ""
             }
            },
            "type": "scatter3d"
           }
          ],
          "scattercarpet": [
           {
            "marker": {
             "colorbar": {
              "outlinewidth": 0,
              "ticks": ""
             }
            },
            "type": "scattercarpet"
           }
          ],
          "scattergeo": [
           {
            "marker": {
             "colorbar": {
              "outlinewidth": 0,
              "ticks": ""
             }
            },
            "type": "scattergeo"
           }
          ],
          "scattergl": [
           {
            "marker": {
             "colorbar": {
              "outlinewidth": 0,
              "ticks": ""
             }
            },
            "type": "scattergl"
           }
          ],
          "scattermapbox": [
           {
            "marker": {
             "colorbar": {
              "outlinewidth": 0,
              "ticks": ""
             }
            },
            "type": "scattermapbox"
           }
          ],
          "scatterpolar": [
           {
            "marker": {
             "colorbar": {
              "outlinewidth": 0,
              "ticks": ""
             }
            },
            "type": "scatterpolar"
           }
          ],
          "scatterpolargl": [
           {
            "marker": {
             "colorbar": {
              "outlinewidth": 0,
              "ticks": ""
             }
            },
            "type": "scatterpolargl"
           }
          ],
          "scatterternary": [
           {
            "marker": {
             "colorbar": {
              "outlinewidth": 0,
              "ticks": ""
             }
            },
            "type": "scatterternary"
           }
          ],
          "surface": [
           {
            "colorbar": {
             "outlinewidth": 0,
             "ticks": ""
            },
            "colorscale": [
             [
              0,
              "#0d0887"
             ],
             [
              0.1111111111111111,
              "#46039f"
             ],
             [
              0.2222222222222222,
              "#7201a8"
             ],
             [
              0.3333333333333333,
              "#9c179e"
             ],
             [
              0.4444444444444444,
              "#bd3786"
             ],
             [
              0.5555555555555556,
              "#d8576b"
             ],
             [
              0.6666666666666666,
              "#ed7953"
             ],
             [
              0.7777777777777778,
              "#fb9f3a"
             ],
             [
              0.8888888888888888,
              "#fdca26"
             ],
             [
              1,
              "#f0f921"
             ]
            ],
            "type": "surface"
           }
          ],
          "table": [
           {
            "cells": {
             "fill": {
              "color": "#EBF0F8"
             },
             "line": {
              "color": "white"
             }
            },
            "header": {
             "fill": {
              "color": "#C8D4E3"
             },
             "line": {
              "color": "white"
             }
            },
            "type": "table"
           }
          ]
         },
         "layout": {
          "annotationdefaults": {
           "arrowcolor": "#2a3f5f",
           "arrowhead": 0,
           "arrowwidth": 1
          },
          "autotypenumbers": "strict",
          "coloraxis": {
           "colorbar": {
            "outlinewidth": 0,
            "ticks": ""
           }
          },
          "colorscale": {
           "diverging": [
            [
             0,
             "#8e0152"
            ],
            [
             0.1,
             "#c51b7d"
            ],
            [
             0.2,
             "#de77ae"
            ],
            [
             0.3,
             "#f1b6da"
            ],
            [
             0.4,
             "#fde0ef"
            ],
            [
             0.5,
             "#f7f7f7"
            ],
            [
             0.6,
             "#e6f5d0"
            ],
            [
             0.7,
             "#b8e186"
            ],
            [
             0.8,
             "#7fbc41"
            ],
            [
             0.9,
             "#4d9221"
            ],
            [
             1,
             "#276419"
            ]
           ],
           "sequential": [
            [
             0,
             "#0d0887"
            ],
            [
             0.1111111111111111,
             "#46039f"
            ],
            [
             0.2222222222222222,
             "#7201a8"
            ],
            [
             0.3333333333333333,
             "#9c179e"
            ],
            [
             0.4444444444444444,
             "#bd3786"
            ],
            [
             0.5555555555555556,
             "#d8576b"
            ],
            [
             0.6666666666666666,
             "#ed7953"
            ],
            [
             0.7777777777777778,
             "#fb9f3a"
            ],
            [
             0.8888888888888888,
             "#fdca26"
            ],
            [
             1,
             "#f0f921"
            ]
           ],
           "sequentialminus": [
            [
             0,
             "#0d0887"
            ],
            [
             0.1111111111111111,
             "#46039f"
            ],
            [
             0.2222222222222222,
             "#7201a8"
            ],
            [
             0.3333333333333333,
             "#9c179e"
            ],
            [
             0.4444444444444444,
             "#bd3786"
            ],
            [
             0.5555555555555556,
             "#d8576b"
            ],
            [
             0.6666666666666666,
             "#ed7953"
            ],
            [
             0.7777777777777778,
             "#fb9f3a"
            ],
            [
             0.8888888888888888,
             "#fdca26"
            ],
            [
             1,
             "#f0f921"
            ]
           ]
          },
          "colorway": [
           "#636efa",
           "#EF553B",
           "#00cc96",
           "#ab63fa",
           "#FFA15A",
           "#19d3f3",
           "#FF6692",
           "#B6E880",
           "#FF97FF",
           "#FECB52"
          ],
          "font": {
           "color": "#2a3f5f"
          },
          "geo": {
           "bgcolor": "white",
           "lakecolor": "white",
           "landcolor": "#E5ECF6",
           "showlakes": true,
           "showland": true,
           "subunitcolor": "white"
          },
          "hoverlabel": {
           "align": "left"
          },
          "hovermode": "closest",
          "mapbox": {
           "style": "light"
          },
          "paper_bgcolor": "white",
          "plot_bgcolor": "#E5ECF6",
          "polar": {
           "angularaxis": {
            "gridcolor": "white",
            "linecolor": "white",
            "ticks": ""
           },
           "bgcolor": "#E5ECF6",
           "radialaxis": {
            "gridcolor": "white",
            "linecolor": "white",
            "ticks": ""
           }
          },
          "scene": {
           "xaxis": {
            "backgroundcolor": "#E5ECF6",
            "gridcolor": "white",
            "gridwidth": 2,
            "linecolor": "white",
            "showbackground": true,
            "ticks": "",
            "zerolinecolor": "white"
           },
           "yaxis": {
            "backgroundcolor": "#E5ECF6",
            "gridcolor": "white",
            "gridwidth": 2,
            "linecolor": "white",
            "showbackground": true,
            "ticks": "",
            "zerolinecolor": "white"
           },
           "zaxis": {
            "backgroundcolor": "#E5ECF6",
            "gridcolor": "white",
            "gridwidth": 2,
            "linecolor": "white",
            "showbackground": true,
            "ticks": "",
            "zerolinecolor": "white"
           }
          },
          "shapedefaults": {
           "line": {
            "color": "#2a3f5f"
           }
          },
          "ternary": {
           "aaxis": {
            "gridcolor": "white",
            "linecolor": "white",
            "ticks": ""
           },
           "baxis": {
            "gridcolor": "white",
            "linecolor": "white",
            "ticks": ""
           },
           "bgcolor": "#E5ECF6",
           "caxis": {
            "gridcolor": "white",
            "linecolor": "white",
            "ticks": ""
           }
          },
          "title": {
           "x": 0.05
          },
          "xaxis": {
           "automargin": true,
           "gridcolor": "white",
           "linecolor": "white",
           "ticks": "",
           "title": {
            "standoff": 15
           },
           "zerolinecolor": "white",
           "zerolinewidth": 2
          },
          "yaxis": {
           "automargin": true,
           "gridcolor": "white",
           "linecolor": "white",
           "ticks": "",
           "title": {
            "standoff": 15
           },
           "zerolinecolor": "white",
           "zerolinewidth": 2
          }
         }
        },
        "title": {
         "text": "Spread Level by Residual Maturity for Finance Sector"
        },
        "updatemenus": [
         {
          "buttons": [
           {
            "args": [
             {
              "visible": [
               true,
               false,
               false,
               false,
               false,
               false
              ]
             },
             {
              "title": "Spread Level by Residual Maturity for Energy Sector"
             }
            ],
            "label": "Energy",
            "method": "update"
           },
           {
            "args": [
             {
              "visible": [
               false,
               true,
               false,
               false,
               false,
               false
              ]
             },
             {
              "title": "Spread Level by Residual Maturity for Finance Sector"
             }
            ],
            "label": "Finance",
            "method": "update"
           },
           {
            "args": [
             {
              "visible": [
               false,
               false,
               true,
               false,
               false,
               false
              ]
             },
             {
              "title": "Spread Level by Residual Maturity for Technology Sector"
             }
            ],
            "label": "Technology",
            "method": "update"
           },
           {
            "args": [
             {
              "visible": [
               false,
               false,
               false,
               true,
               false,
               false
              ]
             },
             {
              "title": "Spread Level by Residual Maturity for Telecommunications Sector"
             }
            ],
            "label": "Telecommunications",
            "method": "update"
           },
           {
            "args": [
             {
              "visible": [
               false,
               false,
               false,
               false,
               true,
               false
              ]
             },
             {
              "title": "Spread Level by Residual Maturity for Consumer Goods Sector"
             }
            ],
            "label": "Consumer Goods",
            "method": "update"
           },
           {
            "args": [
             {
              "visible": [
               false,
               false,
               false,
               false,
               false,
               true
              ]
             },
             {
              "title": "Spread Level by Residual Maturity for Healthcare Sector"
             }
            ],
            "label": "Healthcare",
            "method": "update"
           }
          ],
          "direction": "down",
          "showactive": true
         }
        ]
       }
      },
      "text/html": [
       "<div>                            <div id=\"7b7df3ad-1607-4893-9191-e9267f9b0c25\" class=\"plotly-graph-div\" style=\"height:525px; width:100%;\"></div>            <script type=\"text/javascript\">                require([\"plotly\"], function(Plotly) {                    window.PLOTLYENV=window.PLOTLYENV || {};                                    if (document.getElementById(\"7b7df3ad-1607-4893-9191-e9267f9b0c25\")) {                    Plotly.newPlot(                        \"7b7df3ad-1607-4893-9191-e9267f9b0c25\",                        [{\"mode\":\"markers\",\"name\":\"Energy\",\"visible\":true,\"x\":[5,2,0,0,4,1,1,0,5,2,0,1,5,5,0,3,1,3,1],\"y\":[2.953229911665306,1.0661014658010968,2.105786178142656,2.422299064876036,2.881046528979208,2.03550270105496,2.391568798690164,1.521658349660818,2.693322284476612,2.712648583756185,1.8090162542443802,2.7755401975219196,2.7018568975350252,1.7445655331234862,1.0361507272310417,2.957785716550018,1.7001568153893514,1.9983867597695046,2.144008398418366],\"type\":\"scatter\"},{\"mode\":\"markers\",\"name\":\"Finance\",\"visible\":false,\"x\":[4,0,1,1,1,5,3,0,1,5,5,4,3,3,3,3,5,0,4,0,3,0],\"y\":[1.8220740266364626,2.2687026894027276,1.4843198765548518,2.632863746438768,2.7167176096274397,1.1923531021828415,1.3774142166827588,2.8802668849155566,1.5678419494749314,1.610727720688787,1.9712275071724532,1.3518505053546908,1.3576454184426576,1.6161215837047784,2.2726652363717905,1.8687887310208573,2.2902067240611297,2.7283351301438064,1.939889027981886,2.7669880445325177,2.495437547794828,1.6615006093410274],\"type\":\"scatter\"},{\"mode\":\"markers\",\"name\":\"Technology\",\"visible\":false,\"x\":[3,1,1,0,5,5,1,2,2,4],\"y\":[1.690142496053366,1.301435087930859,1.6519178104037695,1.4404820951310966,2.9925073995158487,2.9308387025775873,2.1613732428729096,2.1797416951210877,1.4603705364831105,1.0872075435088675],\"type\":\"scatter\"},{\"mode\":\"markers\",\"name\":\"Telecommunications\",\"visible\":false,\"x\":[3,2,2,2,2,3,2,1,4,5,3,3,3,5,1,2,1],\"y\":[2.3614109031095336,2.185393447758787,2.966846281789686,2.016397553481437,2.675420211814656,2.0332717825420286,2.7652726863786796,2.4007156599455426,2.8712699884418953,2.570681302227887,2.9473276735106344,2.9889149252216414,2.4883410461131246,2.085080461109799,2.812197575437108,2.3378481193261993,2.537108028612618],\"type\":\"scatter\"},{\"mode\":\"markers\",\"name\":\"Consumer Goods\",\"visible\":false,\"x\":[4,1,5,0,1,1,0,3,0,3,1,4,4,5],\"y\":[2.0618691666342728,1.9406012688920768,2.596690249969102,2.619002092279431,1.7951440421750446,2.3513802340785617,2.4704322384815445,2.082895947655132,1.4571000435945993,2.116586907214195,1.5577427051843638,1.9877874303668692,2.01762815367752,1.5591206835935172],\"type\":\"scatter\"},{\"mode\":\"markers\",\"name\":\"Healthcare\",\"visible\":false,\"x\":[4,1,0,5,5,1,2,4,3,4,1,2,3,4,5,4,1,4],\"y\":[1.8955663291461833,1.1617066526654305,1.739308912122809,2.6062795127597917,1.7976488848891061,2.3916256135817635,1.6973319745834587,1.4181432414754274,1.3499098541918724,2.9643366866588714,2.337976509428457,1.8968482859724947,1.7329375691657198,2.4418798485042585,1.5009236372111683,1.9734843059189102,2.9891010215946823,2.9061436940479064],\"type\":\"scatter\"},{\"line\":{\"dash\":\"dash\"},\"mode\":\"lines\",\"name\":\"Average Spread (All Ratings)\",\"x\":[0,1,2,3,4,5],\"y\":[2.0618019542733363,2.1234150237379974,2.163351736855573,2.0964435730619133,2.1080117651555486,2.223368265574085],\"type\":\"scatter\"}],                        {\"template\":{\"data\":{\"histogram2dcontour\":[{\"type\":\"histogram2dcontour\",\"colorbar\":{\"outlinewidth\":0,\"ticks\":\"\"},\"colorscale\":[[0.0,\"#0d0887\"],[0.1111111111111111,\"#46039f\"],[0.2222222222222222,\"#7201a8\"],[0.3333333333333333,\"#9c179e\"],[0.4444444444444444,\"#bd3786\"],[0.5555555555555556,\"#d8576b\"],[0.6666666666666666,\"#ed7953\"],[0.7777777777777778,\"#fb9f3a\"],[0.8888888888888888,\"#fdca26\"],[1.0,\"#f0f921\"]]}],\"choropleth\":[{\"type\":\"choropleth\",\"colorbar\":{\"outlinewidth\":0,\"ticks\":\"\"}}],\"histogram2d\":[{\"type\":\"histogram2d\",\"colorbar\":{\"outlinewidth\":0,\"ticks\":\"\"},\"colorscale\":[[0.0,\"#0d0887\"],[0.1111111111111111,\"#46039f\"],[0.2222222222222222,\"#7201a8\"],[0.3333333333333333,\"#9c179e\"],[0.4444444444444444,\"#bd3786\"],[0.5555555555555556,\"#d8576b\"],[0.6666666666666666,\"#ed7953\"],[0.7777777777777778,\"#fb9f3a\"],[0.8888888888888888,\"#fdca26\"],[1.0,\"#f0f921\"]]}],\"heatmap\":[{\"type\":\"heatmap\",\"colorbar\":{\"outlinewidth\":0,\"ticks\":\"\"},\"colorscale\":[[0.0,\"#0d0887\"],[0.1111111111111111,\"#46039f\"],[0.2222222222222222,\"#7201a8\"],[0.3333333333333333,\"#9c179e\"],[0.4444444444444444,\"#bd3786\"],[0.5555555555555556,\"#d8576b\"],[0.6666666666666666,\"#ed7953\"],[0.7777777777777778,\"#fb9f3a\"],[0.8888888888888888,\"#fdca26\"],[1.0,\"#f0f921\"]]}],\"heatmapgl\":[{\"type\":\"heatmapgl\",\"colorbar\":{\"outlinewidth\":0,\"ticks\":\"\"},\"colorscale\":[[0.0,\"#0d0887\"],[0.1111111111111111,\"#46039f\"],[0.2222222222222222,\"#7201a8\"],[0.3333333333333333,\"#9c179e\"],[0.4444444444444444,\"#bd3786\"],[0.5555555555555556,\"#d8576b\"],[0.6666666666666666,\"#ed7953\"],[0.7777777777777778,\"#fb9f3a\"],[0.8888888888888888,\"#fdca26\"],[1.0,\"#f0f921\"]]}],\"contourcarpet\":[{\"type\":\"contourcarpet\",\"colorbar\":{\"outlinewidth\":0,\"ticks\":\"\"}}],\"contour\":[{\"type\":\"contour\",\"colorbar\":{\"outlinewidth\":0,\"ticks\":\"\"},\"colorscale\":[[0.0,\"#0d0887\"],[0.1111111111111111,\"#46039f\"],[0.2222222222222222,\"#7201a8\"],[0.3333333333333333,\"#9c179e\"],[0.4444444444444444,\"#bd3786\"],[0.5555555555555556,\"#d8576b\"],[0.6666666666666666,\"#ed7953\"],[0.7777777777777778,\"#fb9f3a\"],[0.8888888888888888,\"#fdca26\"],[1.0,\"#f0f921\"]]}],\"surface\":[{\"type\":\"surface\",\"colorbar\":{\"outlinewidth\":0,\"ticks\":\"\"},\"colorscale\":[[0.0,\"#0d0887\"],[0.1111111111111111,\"#46039f\"],[0.2222222222222222,\"#7201a8\"],[0.3333333333333333,\"#9c179e\"],[0.4444444444444444,\"#bd3786\"],[0.5555555555555556,\"#d8576b\"],[0.6666666666666666,\"#ed7953\"],[0.7777777777777778,\"#fb9f3a\"],[0.8888888888888888,\"#fdca26\"],[1.0,\"#f0f921\"]]}],\"mesh3d\":[{\"type\":\"mesh3d\",\"colorbar\":{\"outlinewidth\":0,\"ticks\":\"\"}}],\"scatter\":[{\"fillpattern\":{\"fillmode\":\"overlay\",\"size\":10,\"solidity\":0.2},\"type\":\"scatter\"}],\"parcoords\":[{\"type\":\"parcoords\",\"line\":{\"colorbar\":{\"outlinewidth\":0,\"ticks\":\"\"}}}],\"scatterpolargl\":[{\"type\":\"scatterpolargl\",\"marker\":{\"colorbar\":{\"outlinewidth\":0,\"ticks\":\"\"}}}],\"bar\":[{\"error_x\":{\"color\":\"#2a3f5f\"},\"error_y\":{\"color\":\"#2a3f5f\"},\"marker\":{\"line\":{\"color\":\"#E5ECF6\",\"width\":0.5},\"pattern\":{\"fillmode\":\"overlay\",\"size\":10,\"solidity\":0.2}},\"type\":\"bar\"}],\"scattergeo\":[{\"type\":\"scattergeo\",\"marker\":{\"colorbar\":{\"outlinewidth\":0,\"ticks\":\"\"}}}],\"scatterpolar\":[{\"type\":\"scatterpolar\",\"marker\":{\"colorbar\":{\"outlinewidth\":0,\"ticks\":\"\"}}}],\"histogram\":[{\"marker\":{\"pattern\":{\"fillmode\":\"overlay\",\"size\":10,\"solidity\":0.2}},\"type\":\"histogram\"}],\"scattergl\":[{\"type\":\"scattergl\",\"marker\":{\"colorbar\":{\"outlinewidth\":0,\"ticks\":\"\"}}}],\"scatter3d\":[{\"type\":\"scatter3d\",\"line\":{\"colorbar\":{\"outlinewidth\":0,\"ticks\":\"\"}},\"marker\":{\"colorbar\":{\"outlinewidth\":0,\"ticks\":\"\"}}}],\"scattermapbox\":[{\"type\":\"scattermapbox\",\"marker\":{\"colorbar\":{\"outlinewidth\":0,\"ticks\":\"\"}}}],\"scatterternary\":[{\"type\":\"scatterternary\",\"marker\":{\"colorbar\":{\"outlinewidth\":0,\"ticks\":\"\"}}}],\"scattercarpet\":[{\"type\":\"scattercarpet\",\"marker\":{\"colorbar\":{\"outlinewidth\":0,\"ticks\":\"\"}}}],\"carpet\":[{\"aaxis\":{\"endlinecolor\":\"#2a3f5f\",\"gridcolor\":\"white\",\"linecolor\":\"white\",\"minorgridcolor\":\"white\",\"startlinecolor\":\"#2a3f5f\"},\"baxis\":{\"endlinecolor\":\"#2a3f5f\",\"gridcolor\":\"white\",\"linecolor\":\"white\",\"minorgridcolor\":\"white\",\"startlinecolor\":\"#2a3f5f\"},\"type\":\"carpet\"}],\"table\":[{\"cells\":{\"fill\":{\"color\":\"#EBF0F8\"},\"line\":{\"color\":\"white\"}},\"header\":{\"fill\":{\"color\":\"#C8D4E3\"},\"line\":{\"color\":\"white\"}},\"type\":\"table\"}],\"barpolar\":[{\"marker\":{\"line\":{\"color\":\"#E5ECF6\",\"width\":0.5},\"pattern\":{\"fillmode\":\"overlay\",\"size\":10,\"solidity\":0.2}},\"type\":\"barpolar\"}],\"pie\":[{\"automargin\":true,\"type\":\"pie\"}]},\"layout\":{\"autotypenumbers\":\"strict\",\"colorway\":[\"#636efa\",\"#EF553B\",\"#00cc96\",\"#ab63fa\",\"#FFA15A\",\"#19d3f3\",\"#FF6692\",\"#B6E880\",\"#FF97FF\",\"#FECB52\"],\"font\":{\"color\":\"#2a3f5f\"},\"hovermode\":\"closest\",\"hoverlabel\":{\"align\":\"left\"},\"paper_bgcolor\":\"white\",\"plot_bgcolor\":\"#E5ECF6\",\"polar\":{\"bgcolor\":\"#E5ECF6\",\"angularaxis\":{\"gridcolor\":\"white\",\"linecolor\":\"white\",\"ticks\":\"\"},\"radialaxis\":{\"gridcolor\":\"white\",\"linecolor\":\"white\",\"ticks\":\"\"}},\"ternary\":{\"bgcolor\":\"#E5ECF6\",\"aaxis\":{\"gridcolor\":\"white\",\"linecolor\":\"white\",\"ticks\":\"\"},\"baxis\":{\"gridcolor\":\"white\",\"linecolor\":\"white\",\"ticks\":\"\"},\"caxis\":{\"gridcolor\":\"white\",\"linecolor\":\"white\",\"ticks\":\"\"}},\"coloraxis\":{\"colorbar\":{\"outlinewidth\":0,\"ticks\":\"\"}},\"colorscale\":{\"sequential\":[[0.0,\"#0d0887\"],[0.1111111111111111,\"#46039f\"],[0.2222222222222222,\"#7201a8\"],[0.3333333333333333,\"#9c179e\"],[0.4444444444444444,\"#bd3786\"],[0.5555555555555556,\"#d8576b\"],[0.6666666666666666,\"#ed7953\"],[0.7777777777777778,\"#fb9f3a\"],[0.8888888888888888,\"#fdca26\"],[1.0,\"#f0f921\"]],\"sequentialminus\":[[0.0,\"#0d0887\"],[0.1111111111111111,\"#46039f\"],[0.2222222222222222,\"#7201a8\"],[0.3333333333333333,\"#9c179e\"],[0.4444444444444444,\"#bd3786\"],[0.5555555555555556,\"#d8576b\"],[0.6666666666666666,\"#ed7953\"],[0.7777777777777778,\"#fb9f3a\"],[0.8888888888888888,\"#fdca26\"],[1.0,\"#f0f921\"]],\"diverging\":[[0,\"#8e0152\"],[0.1,\"#c51b7d\"],[0.2,\"#de77ae\"],[0.3,\"#f1b6da\"],[0.4,\"#fde0ef\"],[0.5,\"#f7f7f7\"],[0.6,\"#e6f5d0\"],[0.7,\"#b8e186\"],[0.8,\"#7fbc41\"],[0.9,\"#4d9221\"],[1,\"#276419\"]]},\"xaxis\":{\"gridcolor\":\"white\",\"linecolor\":\"white\",\"ticks\":\"\",\"title\":{\"standoff\":15},\"zerolinecolor\":\"white\",\"automargin\":true,\"zerolinewidth\":2},\"yaxis\":{\"gridcolor\":\"white\",\"linecolor\":\"white\",\"ticks\":\"\",\"title\":{\"standoff\":15},\"zerolinecolor\":\"white\",\"automargin\":true,\"zerolinewidth\":2},\"scene\":{\"xaxis\":{\"backgroundcolor\":\"#E5ECF6\",\"gridcolor\":\"white\",\"linecolor\":\"white\",\"showbackground\":true,\"ticks\":\"\",\"zerolinecolor\":\"white\",\"gridwidth\":2},\"yaxis\":{\"backgroundcolor\":\"#E5ECF6\",\"gridcolor\":\"white\",\"linecolor\":\"white\",\"showbackground\":true,\"ticks\":\"\",\"zerolinecolor\":\"white\",\"gridwidth\":2},\"zaxis\":{\"backgroundcolor\":\"#E5ECF6\",\"gridcolor\":\"white\",\"linecolor\":\"white\",\"showbackground\":true,\"ticks\":\"\",\"zerolinecolor\":\"white\",\"gridwidth\":2}},\"shapedefaults\":{\"line\":{\"color\":\"#2a3f5f\"}},\"annotationdefaults\":{\"arrowcolor\":\"#2a3f5f\",\"arrowhead\":0,\"arrowwidth\":1},\"geo\":{\"bgcolor\":\"white\",\"landcolor\":\"#E5ECF6\",\"subunitcolor\":\"white\",\"showland\":true,\"showlakes\":true,\"lakecolor\":\"white\"},\"title\":{\"x\":0.05},\"mapbox\":{\"style\":\"light\"}}},\"updatemenus\":[{\"buttons\":[{\"args\":[{\"visible\":[true,false,false,false,false,false]},{\"title\":\"Spread Level by Residual Maturity for Energy Sector\"}],\"label\":\"Energy\",\"method\":\"update\"},{\"args\":[{\"visible\":[false,true,false,false,false,false]},{\"title\":\"Spread Level by Residual Maturity for Finance Sector\"}],\"label\":\"Finance\",\"method\":\"update\"},{\"args\":[{\"visible\":[false,false,true,false,false,false]},{\"title\":\"Spread Level by Residual Maturity for Technology Sector\"}],\"label\":\"Technology\",\"method\":\"update\"},{\"args\":[{\"visible\":[false,false,false,true,false,false]},{\"title\":\"Spread Level by Residual Maturity for Telecommunications Sector\"}],\"label\":\"Telecommunications\",\"method\":\"update\"},{\"args\":[{\"visible\":[false,false,false,false,true,false]},{\"title\":\"Spread Level by Residual Maturity for Consumer Goods Sector\"}],\"label\":\"Consumer Goods\",\"method\":\"update\"},{\"args\":[{\"visible\":[false,false,false,false,false,true]},{\"title\":\"Spread Level by Residual Maturity for Healthcare Sector\"}],\"label\":\"Healthcare\",\"method\":\"update\"}],\"direction\":\"down\",\"showactive\":true}],\"title\":{\"text\":\"Spread Level by Residual Maturity for Finance Sector\"}},                        {\"responsive\": true}                    ).then(function(){\n",
       "                            \n",
       "var gd = document.getElementById('7b7df3ad-1607-4893-9191-e9267f9b0c25');\n",
       "var x = new MutationObserver(function (mutations, observer) {{\n",
       "        var display = window.getComputedStyle(gd).display;\n",
       "        if (!display || display === 'none') {{\n",
       "            console.log([gd, 'removed!']);\n",
       "            Plotly.purge(gd);\n",
       "            observer.disconnect();\n",
       "        }}\n",
       "}});\n",
       "\n",
       "// Listen for the removal of the full notebook cells\n",
       "var notebookContainer = gd.closest('#notebook-container');\n",
       "if (notebookContainer) {{\n",
       "    x.observe(notebookContainer, {childList: true});\n",
       "}}\n",
       "\n",
       "// Listen for the clearing of the current output cell\n",
       "var outputEl = gd.closest('.output');\n",
       "if (outputEl) {{\n",
       "    x.observe(outputEl, {childList: true});\n",
       "}}\n",
       "\n",
       "                        })                };                });            </script>        </div>"
      ]
     },
     "metadata": {},
     "output_type": "display_data"
    }
   ],
   "source": [
    "import plotly.graph_objects as go\n",
    "\n",
    "# Create a dropdown menu for selecting sectors\n",
    "sector_dropdown = [{'label': sector, 'method': 'update', 'args': [{'visible': [sector == s for s in df['Sector'].unique()]}, {'title': f'Spread Level by Residual Maturity for {sector} Sector'}]} for sector in df['Sector'].unique()]\n",
    "\n",
    "# Plot the graph\n",
    "fig = go.Figure()\n",
    "\n",
    "# Add traces for individual spread levels by sector\n",
    "for sector in df['Sector'].unique():\n",
    "    sector_data = df[df['Sector'] == sector]\n",
    "    fig.add_trace(go.Scatter(x=sector_data['Residual Maturity'], y=sector_data['Spread Level'], mode='markers', name=sector, visible=(sector == df['Sector'].unique()[0])))\n",
    "\n",
    "# Add the curve for the whole dataset averaging all ratings\n",
    "avg_spread_all = df.groupby('Residual Maturity')['Spread Level'].mean().reset_index()\n",
    "fig.add_trace(go.Scatter(x=avg_spread_all['Residual Maturity'], y=avg_spread_all['Spread Level'], mode='lines', line=dict(dash='dash'), name='Average Spread (All Ratings)'))\n",
    "\n",
    "# Update layout with dropdown menu and initial title\n",
    "fig.update_layout(updatemenus=[{'buttons': sector_dropdown, 'direction': 'down', 'showactive': True}], title='Spread Level by Residual Maturity for Finance Sector')\n",
    "\n",
    "fig.show()\n"
   ]
  },
  {
   "cell_type": "code",
   "execution_count": 16,
   "id": "8d298de1",
   "metadata": {},
   "outputs": [
    {
     "data": {
      "application/vnd.plotly.v1+json": {
       "config": {
        "plotlyServerURL": "https://plot.ly"
       },
       "data": [
        {
         "mode": "markers",
         "name": "Investment Grade - Energy",
         "type": "scatter",
         "visible": true,
         "x": [
          5,
          1,
          1,
          0,
          2,
          5,
          5,
          3,
          1
         ],
         "y": [
          2.953229911665306,
          2.03550270105496,
          2.391568798690164,
          1.521658349660818,
          2.712648583756185,
          2.7018568975350252,
          1.7445655331234862,
          2.957785716550018,
          1.7001568153893514
         ]
        },
        {
         "mode": "markers",
         "name": "Investment Grade - Finance",
         "type": "scatter",
         "visible": false,
         "x": [
          0,
          1,
          1,
          3,
          5,
          3,
          3,
          5,
          4,
          0,
          0
         ],
         "y": [
          2.2687026894027276,
          1.4843198765548518,
          2.632863746438768,
          1.3774142166827588,
          1.9712275071724532,
          1.3576454184426576,
          1.8687887310208573,
          2.2902067240611297,
          1.939889027981886,
          2.7669880445325177,
          1.6615006093410274
         ]
        },
        {
         "mode": "markers",
         "name": "Investment Grade - Technology",
         "type": "scatter",
         "visible": false,
         "x": [
          5,
          1,
          2,
          4
         ],
         "y": [
          2.9308387025775873,
          2.1613732428729096,
          1.4603705364831105,
          1.0872075435088675
         ]
        },
        {
         "mode": "markers",
         "name": "Investment Grade - Telecommunications",
         "type": "scatter",
         "visible": false,
         "x": [
          2,
          2,
          2,
          1,
          5,
          3,
          3,
          3,
          2
         ],
         "y": [
          2.966846281789686,
          2.016397553481437,
          2.675420211814656,
          2.4007156599455426,
          2.570681302227887,
          2.9473276735106344,
          2.9889149252216414,
          2.4883410461131246,
          2.3378481193261993
         ]
        },
        {
         "mode": "markers",
         "name": "Investment Grade - Consumer Goods",
         "type": "scatter",
         "visible": false,
         "x": [
          4,
          5,
          0,
          3,
          5
         ],
         "y": [
          2.0618691666342728,
          2.596690249969102,
          2.4704322384815445,
          2.082895947655132,
          1.5591206835935172
         ]
        },
        {
         "mode": "markers",
         "name": "Investment Grade - Healthcare",
         "type": "scatter",
         "visible": false,
         "x": [
          0,
          5,
          3,
          1,
          1,
          4
         ],
         "y": [
          1.739308912122809,
          2.6062795127597917,
          1.3499098541918724,
          2.337976509428457,
          2.9891010215946823,
          2.9061436940479064
         ]
        },
        {
         "mode": "markers",
         "name": "Speculative Grade - Energy",
         "type": "scatter",
         "visible": false,
         "x": [
          2,
          0,
          0,
          4,
          5,
          0,
          1,
          0,
          3,
          1
         ],
         "y": [
          1.0661014658010968,
          2.105786178142656,
          2.422299064876036,
          2.881046528979208,
          2.693322284476612,
          1.8090162542443802,
          2.7755401975219196,
          1.0361507272310417,
          1.9983867597695046,
          2.144008398418366
         ]
        },
        {
         "mode": "markers",
         "name": "Speculative Grade - Finance",
         "type": "scatter",
         "visible": false,
         "x": [
          4,
          1,
          5,
          0,
          1,
          5,
          4,
          3,
          3,
          0,
          3
         ],
         "y": [
          1.8220740266364626,
          2.7167176096274397,
          1.1923531021828415,
          2.8802668849155566,
          1.5678419494749314,
          1.610727720688787,
          1.3518505053546908,
          1.6161215837047784,
          2.2726652363717905,
          2.7283351301438064,
          2.495437547794828
         ]
        },
        {
         "mode": "markers",
         "name": "Speculative Grade - Technology",
         "type": "scatter",
         "visible": false,
         "x": [
          3,
          1,
          1,
          0,
          5,
          2
         ],
         "y": [
          1.690142496053366,
          1.301435087930859,
          1.6519178104037695,
          1.4404820951310966,
          2.9925073995158487,
          2.1797416951210877
         ]
        },
        {
         "mode": "markers",
         "name": "Speculative Grade - Telecommunications",
         "type": "scatter",
         "visible": false,
         "x": [
          3,
          2,
          3,
          2,
          4,
          5,
          1,
          1
         ],
         "y": [
          2.3614109031095336,
          2.185393447758787,
          2.0332717825420286,
          2.7652726863786796,
          2.8712699884418953,
          2.085080461109799,
          2.812197575437108,
          2.537108028612618
         ]
        },
        {
         "mode": "markers",
         "name": "Speculative Grade - Consumer Goods",
         "type": "scatter",
         "visible": false,
         "x": [
          1,
          0,
          1,
          1,
          0,
          3,
          1,
          4,
          4
         ],
         "y": [
          1.9406012688920768,
          2.619002092279431,
          1.7951440421750446,
          2.3513802340785617,
          1.4571000435945993,
          2.116586907214195,
          1.5577427051843638,
          1.9877874303668692,
          2.01762815367752
         ]
        },
        {
         "mode": "markers",
         "name": "Speculative Grade - Healthcare",
         "type": "scatter",
         "visible": false,
         "x": [
          4,
          1,
          5,
          1,
          2,
          4,
          4,
          2,
          3,
          4,
          5,
          4
         ],
         "y": [
          1.8955663291461833,
          1.1617066526654305,
          1.7976488848891061,
          2.3916256135817635,
          1.6973319745834587,
          1.4181432414754274,
          2.9643366866588714,
          1.8968482859724947,
          1.7329375691657198,
          2.4418798485042585,
          1.5009236372111683,
          1.9734843059189102
         ]
        },
        {
         "line": {
          "dash": "dash"
         },
         "mode": "lines",
         "name": "Average Spread (All Ratings)",
         "type": "scatter",
         "x": [
          0,
          1,
          2,
          3,
          4,
          5
         ],
         "y": [
          2.0618019542733363,
          2.1234150237379974,
          2.163351736855573,
          2.0964435730619133,
          2.1080117651555486,
          2.223368265574085
         ]
        }
       ],
       "layout": {
        "template": {
         "data": {
          "bar": [
           {
            "error_x": {
             "color": "#2a3f5f"
            },
            "error_y": {
             "color": "#2a3f5f"
            },
            "marker": {
             "line": {
              "color": "#E5ECF6",
              "width": 0.5
             },
             "pattern": {
              "fillmode": "overlay",
              "size": 10,
              "solidity": 0.2
             }
            },
            "type": "bar"
           }
          ],
          "barpolar": [
           {
            "marker": {
             "line": {
              "color": "#E5ECF6",
              "width": 0.5
             },
             "pattern": {
              "fillmode": "overlay",
              "size": 10,
              "solidity": 0.2
             }
            },
            "type": "barpolar"
           }
          ],
          "carpet": [
           {
            "aaxis": {
             "endlinecolor": "#2a3f5f",
             "gridcolor": "white",
             "linecolor": "white",
             "minorgridcolor": "white",
             "startlinecolor": "#2a3f5f"
            },
            "baxis": {
             "endlinecolor": "#2a3f5f",
             "gridcolor": "white",
             "linecolor": "white",
             "minorgridcolor": "white",
             "startlinecolor": "#2a3f5f"
            },
            "type": "carpet"
           }
          ],
          "choropleth": [
           {
            "colorbar": {
             "outlinewidth": 0,
             "ticks": ""
            },
            "type": "choropleth"
           }
          ],
          "contour": [
           {
            "colorbar": {
             "outlinewidth": 0,
             "ticks": ""
            },
            "colorscale": [
             [
              0,
              "#0d0887"
             ],
             [
              0.1111111111111111,
              "#46039f"
             ],
             [
              0.2222222222222222,
              "#7201a8"
             ],
             [
              0.3333333333333333,
              "#9c179e"
             ],
             [
              0.4444444444444444,
              "#bd3786"
             ],
             [
              0.5555555555555556,
              "#d8576b"
             ],
             [
              0.6666666666666666,
              "#ed7953"
             ],
             [
              0.7777777777777778,
              "#fb9f3a"
             ],
             [
              0.8888888888888888,
              "#fdca26"
             ],
             [
              1,
              "#f0f921"
             ]
            ],
            "type": "contour"
           }
          ],
          "contourcarpet": [
           {
            "colorbar": {
             "outlinewidth": 0,
             "ticks": ""
            },
            "type": "contourcarpet"
           }
          ],
          "heatmap": [
           {
            "colorbar": {
             "outlinewidth": 0,
             "ticks": ""
            },
            "colorscale": [
             [
              0,
              "#0d0887"
             ],
             [
              0.1111111111111111,
              "#46039f"
             ],
             [
              0.2222222222222222,
              "#7201a8"
             ],
             [
              0.3333333333333333,
              "#9c179e"
             ],
             [
              0.4444444444444444,
              "#bd3786"
             ],
             [
              0.5555555555555556,
              "#d8576b"
             ],
             [
              0.6666666666666666,
              "#ed7953"
             ],
             [
              0.7777777777777778,
              "#fb9f3a"
             ],
             [
              0.8888888888888888,
              "#fdca26"
             ],
             [
              1,
              "#f0f921"
             ]
            ],
            "type": "heatmap"
           }
          ],
          "heatmapgl": [
           {
            "colorbar": {
             "outlinewidth": 0,
             "ticks": ""
            },
            "colorscale": [
             [
              0,
              "#0d0887"
             ],
             [
              0.1111111111111111,
              "#46039f"
             ],
             [
              0.2222222222222222,
              "#7201a8"
             ],
             [
              0.3333333333333333,
              "#9c179e"
             ],
             [
              0.4444444444444444,
              "#bd3786"
             ],
             [
              0.5555555555555556,
              "#d8576b"
             ],
             [
              0.6666666666666666,
              "#ed7953"
             ],
             [
              0.7777777777777778,
              "#fb9f3a"
             ],
             [
              0.8888888888888888,
              "#fdca26"
             ],
             [
              1,
              "#f0f921"
             ]
            ],
            "type": "heatmapgl"
           }
          ],
          "histogram": [
           {
            "marker": {
             "pattern": {
              "fillmode": "overlay",
              "size": 10,
              "solidity": 0.2
             }
            },
            "type": "histogram"
           }
          ],
          "histogram2d": [
           {
            "colorbar": {
             "outlinewidth": 0,
             "ticks": ""
            },
            "colorscale": [
             [
              0,
              "#0d0887"
             ],
             [
              0.1111111111111111,
              "#46039f"
             ],
             [
              0.2222222222222222,
              "#7201a8"
             ],
             [
              0.3333333333333333,
              "#9c179e"
             ],
             [
              0.4444444444444444,
              "#bd3786"
             ],
             [
              0.5555555555555556,
              "#d8576b"
             ],
             [
              0.6666666666666666,
              "#ed7953"
             ],
             [
              0.7777777777777778,
              "#fb9f3a"
             ],
             [
              0.8888888888888888,
              "#fdca26"
             ],
             [
              1,
              "#f0f921"
             ]
            ],
            "type": "histogram2d"
           }
          ],
          "histogram2dcontour": [
           {
            "colorbar": {
             "outlinewidth": 0,
             "ticks": ""
            },
            "colorscale": [
             [
              0,
              "#0d0887"
             ],
             [
              0.1111111111111111,
              "#46039f"
             ],
             [
              0.2222222222222222,
              "#7201a8"
             ],
             [
              0.3333333333333333,
              "#9c179e"
             ],
             [
              0.4444444444444444,
              "#bd3786"
             ],
             [
              0.5555555555555556,
              "#d8576b"
             ],
             [
              0.6666666666666666,
              "#ed7953"
             ],
             [
              0.7777777777777778,
              "#fb9f3a"
             ],
             [
              0.8888888888888888,
              "#fdca26"
             ],
             [
              1,
              "#f0f921"
             ]
            ],
            "type": "histogram2dcontour"
           }
          ],
          "mesh3d": [
           {
            "colorbar": {
             "outlinewidth": 0,
             "ticks": ""
            },
            "type": "mesh3d"
           }
          ],
          "parcoords": [
           {
            "line": {
             "colorbar": {
              "outlinewidth": 0,
              "ticks": ""
             }
            },
            "type": "parcoords"
           }
          ],
          "pie": [
           {
            "automargin": true,
            "type": "pie"
           }
          ],
          "scatter": [
           {
            "fillpattern": {
             "fillmode": "overlay",
             "size": 10,
             "solidity": 0.2
            },
            "type": "scatter"
           }
          ],
          "scatter3d": [
           {
            "line": {
             "colorbar": {
              "outlinewidth": 0,
              "ticks": ""
             }
            },
            "marker": {
             "colorbar": {
              "outlinewidth": 0,
              "ticks": ""
             }
            },
            "type": "scatter3d"
           }
          ],
          "scattercarpet": [
           {
            "marker": {
             "colorbar": {
              "outlinewidth": 0,
              "ticks": ""
             }
            },
            "type": "scattercarpet"
           }
          ],
          "scattergeo": [
           {
            "marker": {
             "colorbar": {
              "outlinewidth": 0,
              "ticks": ""
             }
            },
            "type": "scattergeo"
           }
          ],
          "scattergl": [
           {
            "marker": {
             "colorbar": {
              "outlinewidth": 0,
              "ticks": ""
             }
            },
            "type": "scattergl"
           }
          ],
          "scattermapbox": [
           {
            "marker": {
             "colorbar": {
              "outlinewidth": 0,
              "ticks": ""
             }
            },
            "type": "scattermapbox"
           }
          ],
          "scatterpolar": [
           {
            "marker": {
             "colorbar": {
              "outlinewidth": 0,
              "ticks": ""
             }
            },
            "type": "scatterpolar"
           }
          ],
          "scatterpolargl": [
           {
            "marker": {
             "colorbar": {
              "outlinewidth": 0,
              "ticks": ""
             }
            },
            "type": "scatterpolargl"
           }
          ],
          "scatterternary": [
           {
            "marker": {
             "colorbar": {
              "outlinewidth": 0,
              "ticks": ""
             }
            },
            "type": "scatterternary"
           }
          ],
          "surface": [
           {
            "colorbar": {
             "outlinewidth": 0,
             "ticks": ""
            },
            "colorscale": [
             [
              0,
              "#0d0887"
             ],
             [
              0.1111111111111111,
              "#46039f"
             ],
             [
              0.2222222222222222,
              "#7201a8"
             ],
             [
              0.3333333333333333,
              "#9c179e"
             ],
             [
              0.4444444444444444,
              "#bd3786"
             ],
             [
              0.5555555555555556,
              "#d8576b"
             ],
             [
              0.6666666666666666,
              "#ed7953"
             ],
             [
              0.7777777777777778,
              "#fb9f3a"
             ],
             [
              0.8888888888888888,
              "#fdca26"
             ],
             [
              1,
              "#f0f921"
             ]
            ],
            "type": "surface"
           }
          ],
          "table": [
           {
            "cells": {
             "fill": {
              "color": "#EBF0F8"
             },
             "line": {
              "color": "white"
             }
            },
            "header": {
             "fill": {
              "color": "#C8D4E3"
             },
             "line": {
              "color": "white"
             }
            },
            "type": "table"
           }
          ]
         },
         "layout": {
          "annotationdefaults": {
           "arrowcolor": "#2a3f5f",
           "arrowhead": 0,
           "arrowwidth": 1
          },
          "autotypenumbers": "strict",
          "coloraxis": {
           "colorbar": {
            "outlinewidth": 0,
            "ticks": ""
           }
          },
          "colorscale": {
           "diverging": [
            [
             0,
             "#8e0152"
            ],
            [
             0.1,
             "#c51b7d"
            ],
            [
             0.2,
             "#de77ae"
            ],
            [
             0.3,
             "#f1b6da"
            ],
            [
             0.4,
             "#fde0ef"
            ],
            [
             0.5,
             "#f7f7f7"
            ],
            [
             0.6,
             "#e6f5d0"
            ],
            [
             0.7,
             "#b8e186"
            ],
            [
             0.8,
             "#7fbc41"
            ],
            [
             0.9,
             "#4d9221"
            ],
            [
             1,
             "#276419"
            ]
           ],
           "sequential": [
            [
             0,
             "#0d0887"
            ],
            [
             0.1111111111111111,
             "#46039f"
            ],
            [
             0.2222222222222222,
             "#7201a8"
            ],
            [
             0.3333333333333333,
             "#9c179e"
            ],
            [
             0.4444444444444444,
             "#bd3786"
            ],
            [
             0.5555555555555556,
             "#d8576b"
            ],
            [
             0.6666666666666666,
             "#ed7953"
            ],
            [
             0.7777777777777778,
             "#fb9f3a"
            ],
            [
             0.8888888888888888,
             "#fdca26"
            ],
            [
             1,
             "#f0f921"
            ]
           ],
           "sequentialminus": [
            [
             0,
             "#0d0887"
            ],
            [
             0.1111111111111111,
             "#46039f"
            ],
            [
             0.2222222222222222,
             "#7201a8"
            ],
            [
             0.3333333333333333,
             "#9c179e"
            ],
            [
             0.4444444444444444,
             "#bd3786"
            ],
            [
             0.5555555555555556,
             "#d8576b"
            ],
            [
             0.6666666666666666,
             "#ed7953"
            ],
            [
             0.7777777777777778,
             "#fb9f3a"
            ],
            [
             0.8888888888888888,
             "#fdca26"
            ],
            [
             1,
             "#f0f921"
            ]
           ]
          },
          "colorway": [
           "#636efa",
           "#EF553B",
           "#00cc96",
           "#ab63fa",
           "#FFA15A",
           "#19d3f3",
           "#FF6692",
           "#B6E880",
           "#FF97FF",
           "#FECB52"
          ],
          "font": {
           "color": "#2a3f5f"
          },
          "geo": {
           "bgcolor": "white",
           "lakecolor": "white",
           "landcolor": "#E5ECF6",
           "showlakes": true,
           "showland": true,
           "subunitcolor": "white"
          },
          "hoverlabel": {
           "align": "left"
          },
          "hovermode": "closest",
          "mapbox": {
           "style": "light"
          },
          "paper_bgcolor": "white",
          "plot_bgcolor": "#E5ECF6",
          "polar": {
           "angularaxis": {
            "gridcolor": "white",
            "linecolor": "white",
            "ticks": ""
           },
           "bgcolor": "#E5ECF6",
           "radialaxis": {
            "gridcolor": "white",
            "linecolor": "white",
            "ticks": ""
           }
          },
          "scene": {
           "xaxis": {
            "backgroundcolor": "#E5ECF6",
            "gridcolor": "white",
            "gridwidth": 2,
            "linecolor": "white",
            "showbackground": true,
            "ticks": "",
            "zerolinecolor": "white"
           },
           "yaxis": {
            "backgroundcolor": "#E5ECF6",
            "gridcolor": "white",
            "gridwidth": 2,
            "linecolor": "white",
            "showbackground": true,
            "ticks": "",
            "zerolinecolor": "white"
           },
           "zaxis": {
            "backgroundcolor": "#E5ECF6",
            "gridcolor": "white",
            "gridwidth": 2,
            "linecolor": "white",
            "showbackground": true,
            "ticks": "",
            "zerolinecolor": "white"
           }
          },
          "shapedefaults": {
           "line": {
            "color": "#2a3f5f"
           }
          },
          "ternary": {
           "aaxis": {
            "gridcolor": "white",
            "linecolor": "white",
            "ticks": ""
           },
           "baxis": {
            "gridcolor": "white",
            "linecolor": "white",
            "ticks": ""
           },
           "bgcolor": "#E5ECF6",
           "caxis": {
            "gridcolor": "white",
            "linecolor": "white",
            "ticks": ""
           }
          },
          "title": {
           "x": 0.05
          },
          "xaxis": {
           "automargin": true,
           "gridcolor": "white",
           "linecolor": "white",
           "ticks": "",
           "title": {
            "standoff": 15
           },
           "zerolinecolor": "white",
           "zerolinewidth": 2
          },
          "yaxis": {
           "automargin": true,
           "gridcolor": "white",
           "linecolor": "white",
           "ticks": "",
           "title": {
            "standoff": 15
           },
           "zerolinecolor": "white",
           "zerolinewidth": 2
          }
         }
        },
        "title": {
         "text": "Spread Level by Residual Maturity for Investment Grade and Finance Sector"
        },
        "updatemenus": [
         {
          "buttons": [
           {
            "args": [
             {
              "visible": [
               true,
               false
              ]
             },
             {
              "title": "Spread Level by Residual Maturity for Investment Grade"
             }
            ],
            "label": "Investment Grade",
            "method": "update"
           },
           {
            "args": [
             {
              "visible": [
               false,
               true
              ]
             },
             {
              "title": "Spread Level by Residual Maturity for Speculative Grade"
             }
            ],
            "label": "Speculative Grade",
            "method": "update"
           }
          ],
          "direction": "down",
          "showactive": true
         },
         {
          "buttons": [
           {
            "args": [
             {
              "visible": [
               true,
               false,
               false,
               false,
               false,
               false
              ]
             },
             {
              "title": "Spread Level by Residual Maturity for Energy Sector"
             }
            ],
            "label": "Energy",
            "method": "update"
           },
           {
            "args": [
             {
              "visible": [
               false,
               true,
               false,
               false,
               false,
               false
              ]
             },
             {
              "title": "Spread Level by Residual Maturity for Finance Sector"
             }
            ],
            "label": "Finance",
            "method": "update"
           },
           {
            "args": [
             {
              "visible": [
               false,
               false,
               true,
               false,
               false,
               false
              ]
             },
             {
              "title": "Spread Level by Residual Maturity for Technology Sector"
             }
            ],
            "label": "Technology",
            "method": "update"
           },
           {
            "args": [
             {
              "visible": [
               false,
               false,
               false,
               true,
               false,
               false
              ]
             },
             {
              "title": "Spread Level by Residual Maturity for Telecommunications Sector"
             }
            ],
            "label": "Telecommunications",
            "method": "update"
           },
           {
            "args": [
             {
              "visible": [
               false,
               false,
               false,
               false,
               true,
               false
              ]
             },
             {
              "title": "Spread Level by Residual Maturity for Consumer Goods Sector"
             }
            ],
            "label": "Consumer Goods",
            "method": "update"
           },
           {
            "args": [
             {
              "visible": [
               false,
               false,
               false,
               false,
               false,
               true
              ]
             },
             {
              "title": "Spread Level by Residual Maturity for Healthcare Sector"
             }
            ],
            "label": "Healthcare",
            "method": "update"
           }
          ],
          "direction": "down",
          "showactive": true
         }
        ]
       }
      },
      "text/html": [
       "<div>                            <div id=\"f2915601-a9ae-48cb-9389-e59e208edafc\" class=\"plotly-graph-div\" style=\"height:525px; width:100%;\"></div>            <script type=\"text/javascript\">                require([\"plotly\"], function(Plotly) {                    window.PLOTLYENV=window.PLOTLYENV || {};                                    if (document.getElementById(\"f2915601-a9ae-48cb-9389-e59e208edafc\")) {                    Plotly.newPlot(                        \"f2915601-a9ae-48cb-9389-e59e208edafc\",                        [{\"mode\":\"markers\",\"name\":\"Investment Grade - Energy\",\"visible\":true,\"x\":[5,1,1,0,2,5,5,3,1],\"y\":[2.953229911665306,2.03550270105496,2.391568798690164,1.521658349660818,2.712648583756185,2.7018568975350252,1.7445655331234862,2.957785716550018,1.7001568153893514],\"type\":\"scatter\"},{\"mode\":\"markers\",\"name\":\"Investment Grade - Finance\",\"visible\":false,\"x\":[0,1,1,3,5,3,3,5,4,0,0],\"y\":[2.2687026894027276,1.4843198765548518,2.632863746438768,1.3774142166827588,1.9712275071724532,1.3576454184426576,1.8687887310208573,2.2902067240611297,1.939889027981886,2.7669880445325177,1.6615006093410274],\"type\":\"scatter\"},{\"mode\":\"markers\",\"name\":\"Investment Grade - Technology\",\"visible\":false,\"x\":[5,1,2,4],\"y\":[2.9308387025775873,2.1613732428729096,1.4603705364831105,1.0872075435088675],\"type\":\"scatter\"},{\"mode\":\"markers\",\"name\":\"Investment Grade - Telecommunications\",\"visible\":false,\"x\":[2,2,2,1,5,3,3,3,2],\"y\":[2.966846281789686,2.016397553481437,2.675420211814656,2.4007156599455426,2.570681302227887,2.9473276735106344,2.9889149252216414,2.4883410461131246,2.3378481193261993],\"type\":\"scatter\"},{\"mode\":\"markers\",\"name\":\"Investment Grade - Consumer Goods\",\"visible\":false,\"x\":[4,5,0,3,5],\"y\":[2.0618691666342728,2.596690249969102,2.4704322384815445,2.082895947655132,1.5591206835935172],\"type\":\"scatter\"},{\"mode\":\"markers\",\"name\":\"Investment Grade - Healthcare\",\"visible\":false,\"x\":[0,5,3,1,1,4],\"y\":[1.739308912122809,2.6062795127597917,1.3499098541918724,2.337976509428457,2.9891010215946823,2.9061436940479064],\"type\":\"scatter\"},{\"mode\":\"markers\",\"name\":\"Speculative Grade - Energy\",\"visible\":false,\"x\":[2,0,0,4,5,0,1,0,3,1],\"y\":[1.0661014658010968,2.105786178142656,2.422299064876036,2.881046528979208,2.693322284476612,1.8090162542443802,2.7755401975219196,1.0361507272310417,1.9983867597695046,2.144008398418366],\"type\":\"scatter\"},{\"mode\":\"markers\",\"name\":\"Speculative Grade - Finance\",\"visible\":false,\"x\":[4,1,5,0,1,5,4,3,3,0,3],\"y\":[1.8220740266364626,2.7167176096274397,1.1923531021828415,2.8802668849155566,1.5678419494749314,1.610727720688787,1.3518505053546908,1.6161215837047784,2.2726652363717905,2.7283351301438064,2.495437547794828],\"type\":\"scatter\"},{\"mode\":\"markers\",\"name\":\"Speculative Grade - Technology\",\"visible\":false,\"x\":[3,1,1,0,5,2],\"y\":[1.690142496053366,1.301435087930859,1.6519178104037695,1.4404820951310966,2.9925073995158487,2.1797416951210877],\"type\":\"scatter\"},{\"mode\":\"markers\",\"name\":\"Speculative Grade - Telecommunications\",\"visible\":false,\"x\":[3,2,3,2,4,5,1,1],\"y\":[2.3614109031095336,2.185393447758787,2.0332717825420286,2.7652726863786796,2.8712699884418953,2.085080461109799,2.812197575437108,2.537108028612618],\"type\":\"scatter\"},{\"mode\":\"markers\",\"name\":\"Speculative Grade - Consumer Goods\",\"visible\":false,\"x\":[1,0,1,1,0,3,1,4,4],\"y\":[1.9406012688920768,2.619002092279431,1.7951440421750446,2.3513802340785617,1.4571000435945993,2.116586907214195,1.5577427051843638,1.9877874303668692,2.01762815367752],\"type\":\"scatter\"},{\"mode\":\"markers\",\"name\":\"Speculative Grade - Healthcare\",\"visible\":false,\"x\":[4,1,5,1,2,4,4,2,3,4,5,4],\"y\":[1.8955663291461833,1.1617066526654305,1.7976488848891061,2.3916256135817635,1.6973319745834587,1.4181432414754274,2.9643366866588714,1.8968482859724947,1.7329375691657198,2.4418798485042585,1.5009236372111683,1.9734843059189102],\"type\":\"scatter\"},{\"line\":{\"dash\":\"dash\"},\"mode\":\"lines\",\"name\":\"Average Spread (All Ratings)\",\"x\":[0,1,2,3,4,5],\"y\":[2.0618019542733363,2.1234150237379974,2.163351736855573,2.0964435730619133,2.1080117651555486,2.223368265574085],\"type\":\"scatter\"}],                        {\"template\":{\"data\":{\"histogram2dcontour\":[{\"type\":\"histogram2dcontour\",\"colorbar\":{\"outlinewidth\":0,\"ticks\":\"\"},\"colorscale\":[[0.0,\"#0d0887\"],[0.1111111111111111,\"#46039f\"],[0.2222222222222222,\"#7201a8\"],[0.3333333333333333,\"#9c179e\"],[0.4444444444444444,\"#bd3786\"],[0.5555555555555556,\"#d8576b\"],[0.6666666666666666,\"#ed7953\"],[0.7777777777777778,\"#fb9f3a\"],[0.8888888888888888,\"#fdca26\"],[1.0,\"#f0f921\"]]}],\"choropleth\":[{\"type\":\"choropleth\",\"colorbar\":{\"outlinewidth\":0,\"ticks\":\"\"}}],\"histogram2d\":[{\"type\":\"histogram2d\",\"colorbar\":{\"outlinewidth\":0,\"ticks\":\"\"},\"colorscale\":[[0.0,\"#0d0887\"],[0.1111111111111111,\"#46039f\"],[0.2222222222222222,\"#7201a8\"],[0.3333333333333333,\"#9c179e\"],[0.4444444444444444,\"#bd3786\"],[0.5555555555555556,\"#d8576b\"],[0.6666666666666666,\"#ed7953\"],[0.7777777777777778,\"#fb9f3a\"],[0.8888888888888888,\"#fdca26\"],[1.0,\"#f0f921\"]]}],\"heatmap\":[{\"type\":\"heatmap\",\"colorbar\":{\"outlinewidth\":0,\"ticks\":\"\"},\"colorscale\":[[0.0,\"#0d0887\"],[0.1111111111111111,\"#46039f\"],[0.2222222222222222,\"#7201a8\"],[0.3333333333333333,\"#9c179e\"],[0.4444444444444444,\"#bd3786\"],[0.5555555555555556,\"#d8576b\"],[0.6666666666666666,\"#ed7953\"],[0.7777777777777778,\"#fb9f3a\"],[0.8888888888888888,\"#fdca26\"],[1.0,\"#f0f921\"]]}],\"heatmapgl\":[{\"type\":\"heatmapgl\",\"colorbar\":{\"outlinewidth\":0,\"ticks\":\"\"},\"colorscale\":[[0.0,\"#0d0887\"],[0.1111111111111111,\"#46039f\"],[0.2222222222222222,\"#7201a8\"],[0.3333333333333333,\"#9c179e\"],[0.4444444444444444,\"#bd3786\"],[0.5555555555555556,\"#d8576b\"],[0.6666666666666666,\"#ed7953\"],[0.7777777777777778,\"#fb9f3a\"],[0.8888888888888888,\"#fdca26\"],[1.0,\"#f0f921\"]]}],\"contourcarpet\":[{\"type\":\"contourcarpet\",\"colorbar\":{\"outlinewidth\":0,\"ticks\":\"\"}}],\"contour\":[{\"type\":\"contour\",\"colorbar\":{\"outlinewidth\":0,\"ticks\":\"\"},\"colorscale\":[[0.0,\"#0d0887\"],[0.1111111111111111,\"#46039f\"],[0.2222222222222222,\"#7201a8\"],[0.3333333333333333,\"#9c179e\"],[0.4444444444444444,\"#bd3786\"],[0.5555555555555556,\"#d8576b\"],[0.6666666666666666,\"#ed7953\"],[0.7777777777777778,\"#fb9f3a\"],[0.8888888888888888,\"#fdca26\"],[1.0,\"#f0f921\"]]}],\"surface\":[{\"type\":\"surface\",\"colorbar\":{\"outlinewidth\":0,\"ticks\":\"\"},\"colorscale\":[[0.0,\"#0d0887\"],[0.1111111111111111,\"#46039f\"],[0.2222222222222222,\"#7201a8\"],[0.3333333333333333,\"#9c179e\"],[0.4444444444444444,\"#bd3786\"],[0.5555555555555556,\"#d8576b\"],[0.6666666666666666,\"#ed7953\"],[0.7777777777777778,\"#fb9f3a\"],[0.8888888888888888,\"#fdca26\"],[1.0,\"#f0f921\"]]}],\"mesh3d\":[{\"type\":\"mesh3d\",\"colorbar\":{\"outlinewidth\":0,\"ticks\":\"\"}}],\"scatter\":[{\"fillpattern\":{\"fillmode\":\"overlay\",\"size\":10,\"solidity\":0.2},\"type\":\"scatter\"}],\"parcoords\":[{\"type\":\"parcoords\",\"line\":{\"colorbar\":{\"outlinewidth\":0,\"ticks\":\"\"}}}],\"scatterpolargl\":[{\"type\":\"scatterpolargl\",\"marker\":{\"colorbar\":{\"outlinewidth\":0,\"ticks\":\"\"}}}],\"bar\":[{\"error_x\":{\"color\":\"#2a3f5f\"},\"error_y\":{\"color\":\"#2a3f5f\"},\"marker\":{\"line\":{\"color\":\"#E5ECF6\",\"width\":0.5},\"pattern\":{\"fillmode\":\"overlay\",\"size\":10,\"solidity\":0.2}},\"type\":\"bar\"}],\"scattergeo\":[{\"type\":\"scattergeo\",\"marker\":{\"colorbar\":{\"outlinewidth\":0,\"ticks\":\"\"}}}],\"scatterpolar\":[{\"type\":\"scatterpolar\",\"marker\":{\"colorbar\":{\"outlinewidth\":0,\"ticks\":\"\"}}}],\"histogram\":[{\"marker\":{\"pattern\":{\"fillmode\":\"overlay\",\"size\":10,\"solidity\":0.2}},\"type\":\"histogram\"}],\"scattergl\":[{\"type\":\"scattergl\",\"marker\":{\"colorbar\":{\"outlinewidth\":0,\"ticks\":\"\"}}}],\"scatter3d\":[{\"type\":\"scatter3d\",\"line\":{\"colorbar\":{\"outlinewidth\":0,\"ticks\":\"\"}},\"marker\":{\"colorbar\":{\"outlinewidth\":0,\"ticks\":\"\"}}}],\"scattermapbox\":[{\"type\":\"scattermapbox\",\"marker\":{\"colorbar\":{\"outlinewidth\":0,\"ticks\":\"\"}}}],\"scatterternary\":[{\"type\":\"scatterternary\",\"marker\":{\"colorbar\":{\"outlinewidth\":0,\"ticks\":\"\"}}}],\"scattercarpet\":[{\"type\":\"scattercarpet\",\"marker\":{\"colorbar\":{\"outlinewidth\":0,\"ticks\":\"\"}}}],\"carpet\":[{\"aaxis\":{\"endlinecolor\":\"#2a3f5f\",\"gridcolor\":\"white\",\"linecolor\":\"white\",\"minorgridcolor\":\"white\",\"startlinecolor\":\"#2a3f5f\"},\"baxis\":{\"endlinecolor\":\"#2a3f5f\",\"gridcolor\":\"white\",\"linecolor\":\"white\",\"minorgridcolor\":\"white\",\"startlinecolor\":\"#2a3f5f\"},\"type\":\"carpet\"}],\"table\":[{\"cells\":{\"fill\":{\"color\":\"#EBF0F8\"},\"line\":{\"color\":\"white\"}},\"header\":{\"fill\":{\"color\":\"#C8D4E3\"},\"line\":{\"color\":\"white\"}},\"type\":\"table\"}],\"barpolar\":[{\"marker\":{\"line\":{\"color\":\"#E5ECF6\",\"width\":0.5},\"pattern\":{\"fillmode\":\"overlay\",\"size\":10,\"solidity\":0.2}},\"type\":\"barpolar\"}],\"pie\":[{\"automargin\":true,\"type\":\"pie\"}]},\"layout\":{\"autotypenumbers\":\"strict\",\"colorway\":[\"#636efa\",\"#EF553B\",\"#00cc96\",\"#ab63fa\",\"#FFA15A\",\"#19d3f3\",\"#FF6692\",\"#B6E880\",\"#FF97FF\",\"#FECB52\"],\"font\":{\"color\":\"#2a3f5f\"},\"hovermode\":\"closest\",\"hoverlabel\":{\"align\":\"left\"},\"paper_bgcolor\":\"white\",\"plot_bgcolor\":\"#E5ECF6\",\"polar\":{\"bgcolor\":\"#E5ECF6\",\"angularaxis\":{\"gridcolor\":\"white\",\"linecolor\":\"white\",\"ticks\":\"\"},\"radialaxis\":{\"gridcolor\":\"white\",\"linecolor\":\"white\",\"ticks\":\"\"}},\"ternary\":{\"bgcolor\":\"#E5ECF6\",\"aaxis\":{\"gridcolor\":\"white\",\"linecolor\":\"white\",\"ticks\":\"\"},\"baxis\":{\"gridcolor\":\"white\",\"linecolor\":\"white\",\"ticks\":\"\"},\"caxis\":{\"gridcolor\":\"white\",\"linecolor\":\"white\",\"ticks\":\"\"}},\"coloraxis\":{\"colorbar\":{\"outlinewidth\":0,\"ticks\":\"\"}},\"colorscale\":{\"sequential\":[[0.0,\"#0d0887\"],[0.1111111111111111,\"#46039f\"],[0.2222222222222222,\"#7201a8\"],[0.3333333333333333,\"#9c179e\"],[0.4444444444444444,\"#bd3786\"],[0.5555555555555556,\"#d8576b\"],[0.6666666666666666,\"#ed7953\"],[0.7777777777777778,\"#fb9f3a\"],[0.8888888888888888,\"#fdca26\"],[1.0,\"#f0f921\"]],\"sequentialminus\":[[0.0,\"#0d0887\"],[0.1111111111111111,\"#46039f\"],[0.2222222222222222,\"#7201a8\"],[0.3333333333333333,\"#9c179e\"],[0.4444444444444444,\"#bd3786\"],[0.5555555555555556,\"#d8576b\"],[0.6666666666666666,\"#ed7953\"],[0.7777777777777778,\"#fb9f3a\"],[0.8888888888888888,\"#fdca26\"],[1.0,\"#f0f921\"]],\"diverging\":[[0,\"#8e0152\"],[0.1,\"#c51b7d\"],[0.2,\"#de77ae\"],[0.3,\"#f1b6da\"],[0.4,\"#fde0ef\"],[0.5,\"#f7f7f7\"],[0.6,\"#e6f5d0\"],[0.7,\"#b8e186\"],[0.8,\"#7fbc41\"],[0.9,\"#4d9221\"],[1,\"#276419\"]]},\"xaxis\":{\"gridcolor\":\"white\",\"linecolor\":\"white\",\"ticks\":\"\",\"title\":{\"standoff\":15},\"zerolinecolor\":\"white\",\"automargin\":true,\"zerolinewidth\":2},\"yaxis\":{\"gridcolor\":\"white\",\"linecolor\":\"white\",\"ticks\":\"\",\"title\":{\"standoff\":15},\"zerolinecolor\":\"white\",\"automargin\":true,\"zerolinewidth\":2},\"scene\":{\"xaxis\":{\"backgroundcolor\":\"#E5ECF6\",\"gridcolor\":\"white\",\"linecolor\":\"white\",\"showbackground\":true,\"ticks\":\"\",\"zerolinecolor\":\"white\",\"gridwidth\":2},\"yaxis\":{\"backgroundcolor\":\"#E5ECF6\",\"gridcolor\":\"white\",\"linecolor\":\"white\",\"showbackground\":true,\"ticks\":\"\",\"zerolinecolor\":\"white\",\"gridwidth\":2},\"zaxis\":{\"backgroundcolor\":\"#E5ECF6\",\"gridcolor\":\"white\",\"linecolor\":\"white\",\"showbackground\":true,\"ticks\":\"\",\"zerolinecolor\":\"white\",\"gridwidth\":2}},\"shapedefaults\":{\"line\":{\"color\":\"#2a3f5f\"}},\"annotationdefaults\":{\"arrowcolor\":\"#2a3f5f\",\"arrowhead\":0,\"arrowwidth\":1},\"geo\":{\"bgcolor\":\"white\",\"landcolor\":\"#E5ECF6\",\"subunitcolor\":\"white\",\"showland\":true,\"showlakes\":true,\"lakecolor\":\"white\"},\"title\":{\"x\":0.05},\"mapbox\":{\"style\":\"light\"}}},\"updatemenus\":[{\"buttons\":[{\"args\":[{\"visible\":[true,false]},{\"title\":\"Spread Level by Residual Maturity for Investment Grade\"}],\"label\":\"Investment Grade\",\"method\":\"update\"},{\"args\":[{\"visible\":[false,true]},{\"title\":\"Spread Level by Residual Maturity for Speculative Grade\"}],\"label\":\"Speculative Grade\",\"method\":\"update\"}],\"direction\":\"down\",\"showactive\":true},{\"buttons\":[{\"args\":[{\"visible\":[true,false,false,false,false,false]},{\"title\":\"Spread Level by Residual Maturity for Energy Sector\"}],\"label\":\"Energy\",\"method\":\"update\"},{\"args\":[{\"visible\":[false,true,false,false,false,false]},{\"title\":\"Spread Level by Residual Maturity for Finance Sector\"}],\"label\":\"Finance\",\"method\":\"update\"},{\"args\":[{\"visible\":[false,false,true,false,false,false]},{\"title\":\"Spread Level by Residual Maturity for Technology Sector\"}],\"label\":\"Technology\",\"method\":\"update\"},{\"args\":[{\"visible\":[false,false,false,true,false,false]},{\"title\":\"Spread Level by Residual Maturity for Telecommunications Sector\"}],\"label\":\"Telecommunications\",\"method\":\"update\"},{\"args\":[{\"visible\":[false,false,false,false,true,false]},{\"title\":\"Spread Level by Residual Maturity for Consumer Goods Sector\"}],\"label\":\"Consumer Goods\",\"method\":\"update\"},{\"args\":[{\"visible\":[false,false,false,false,false,true]},{\"title\":\"Spread Level by Residual Maturity for Healthcare Sector\"}],\"label\":\"Healthcare\",\"method\":\"update\"}],\"direction\":\"down\",\"showactive\":true}],\"title\":{\"text\":\"Spread Level by Residual Maturity for Investment Grade and Finance Sector\"}},                        {\"responsive\": true}                    ).then(function(){\n",
       "                            \n",
       "var gd = document.getElementById('f2915601-a9ae-48cb-9389-e59e208edafc');\n",
       "var x = new MutationObserver(function (mutations, observer) {{\n",
       "        var display = window.getComputedStyle(gd).display;\n",
       "        if (!display || display === 'none') {{\n",
       "            console.log([gd, 'removed!']);\n",
       "            Plotly.purge(gd);\n",
       "            observer.disconnect();\n",
       "        }}\n",
       "}});\n",
       "\n",
       "// Listen for the removal of the full notebook cells\n",
       "var notebookContainer = gd.closest('#notebook-container');\n",
       "if (notebookContainer) {{\n",
       "    x.observe(notebookContainer, {childList: true});\n",
       "}}\n",
       "\n",
       "// Listen for the clearing of the current output cell\n",
       "var outputEl = gd.closest('.output');\n",
       "if (outputEl) {{\n",
       "    x.observe(outputEl, {childList: true});\n",
       "}}\n",
       "\n",
       "                        })                };                });            </script>        </div>"
      ]
     },
     "metadata": {},
     "output_type": "display_data"
    }
   ],
   "source": [
    "import plotly.graph_objects as go\n",
    "\n",
    "# Create dropdown menus for selecting rating category and sector\n",
    "rating_dropdown = [{'label': 'Investment Grade', 'method': 'update', 'args': [{'visible': [rating == 'Investment Grade' for rating in df['Rating Subcategory'].unique()]}, {'title': 'Spread Level by Residual Maturity for Investment Grade'}]},\n",
    "                   {'label': 'Speculative Grade', 'method': 'update', 'args': [{'visible': [rating == 'Speculative Grade' for rating in df['Rating Subcategory'].unique()]}, {'title': 'Spread Level by Residual Maturity for Speculative Grade'}]}]\n",
    "\n",
    "sector_dropdown = [{'label': sector, 'method': 'update', 'args': [{'visible': [sector == s for s in df['Sector'].unique()]}, {'title': f'Spread Level by Residual Maturity for {sector} Sector'}]} for sector in df['Sector'].unique()]\n",
    "\n",
    "# Plot the graph\n",
    "fig = go.Figure()\n",
    "\n",
    "# Add traces for individual spread levels by rating category and sector\n",
    "for rating in df['Rating Subcategory'].unique():\n",
    "    for sector in df['Sector'].unique():\n",
    "        filtered_data = df[(df['Rating Subcategory'] == rating) & (df['Sector'] == sector)]\n",
    "        fig.add_trace(go.Scatter(x=filtered_data['Residual Maturity'], y=filtered_data['Spread Level'], mode='markers', name=f'{rating} - {sector}', visible=(rating == df['Rating Subcategory'].unique()[0] and sector == df['Sector'].unique()[0])))\n",
    "\n",
    "# Add the curve for the whole dataset averaging all ratings\n",
    "avg_spread_all = df.groupby('Residual Maturity')['Spread Level'].mean().reset_index()\n",
    "fig.add_trace(go.Scatter(x=avg_spread_all['Residual Maturity'], y=avg_spread_all['Spread Level'], mode='lines', line=dict(dash='dash'), name='Average Spread (All Ratings)'))\n",
    "\n",
    "# Update layout with dropdown menus and initial titles\n",
    "fig.update_layout(updatemenus=[{'buttons': rating_dropdown, 'direction': 'down', 'showactive': True},\n",
    "                               {'buttons': sector_dropdown, 'direction': 'down', 'showactive': True}], title='Spread Level by Residual Maturity for Investment Grade and Finance Sector')\n",
    "\n",
    "fig.show()\n"
   ]
  },
  {
   "cell_type": "code",
   "execution_count": 18,
   "id": "985de624",
   "metadata": {},
   "outputs": [
    {
     "ename": "SyntaxError",
     "evalue": "'(' was never closed (2888371987.py, line 16)",
     "output_type": "error",
     "traceback": [
      "\u001b[0;36m  Cell \u001b[0;32mIn[18], line 16\u001b[0;36m\u001b[0m\n\u001b[0;31m    fig.add_trace(go.Scatter(x=filtered_data['Residual Maturity'], y=filtered_data['Spread Level'], mode='markers', name=f'{rating} - {sector}', visible=(rating == df['Rating Subcategory'].unique()[0] and sector == df['Sector'].unique()[0]))\u001b[0m\n\u001b[0m                 ^\u001b[0m\n\u001b[0;31mSyntaxError\u001b[0m\u001b[0;31m:\u001b[0m '(' was never closed\n"
     ]
    }
   ],
   "source": [
    "import plotly.graph_objects as go\n",
    "\n",
    "# Create dropdown menus for selecting rating category and sector\n",
    "rating_dropdown = [{'label': 'Investment Grade', 'method': 'update', 'args': [{'visible': [rating == 'Investment Grade' for rating in df['Rating Subcategory'].unique()]}, {'title': 'Spread Level by Residual Maturity for Investment Grade'}]},\n",
    "                   {'label': 'Speculative Grade', 'method': 'update', 'args': [{'visible': [rating == 'Speculative Grade' for rating in df['Rating Subcategory'].unique()]}, {'title': 'Spread Level by Residual Maturity for Speculative Grade'}]}]\n",
    "\n",
    "sector_dropdown = [{'label': sector, 'method': 'update', 'args': [{'visible': [sector == s for s in df['Sector'].unique()]}, {'title': f'Spread Level by Residual Maturity for {sector} Sector'}]} for sector in df['Sector'].unique()]\n",
    "\n",
    "# Plot the graph\n",
    "fig = go.Figure()\n",
    "\n",
    "# Add traces for individual spread levels by rating category and sector\n",
    "for rating in df['Rating Subcategory'].unique():\n",
    "    for sector in df['Sector'].unique():\n",
    "        filtered_data = df[(df['Rating Subcategory'] == rating) & (df['Sector'] == sector)]\n",
    "        fig.add_trace(go.Scatter(x=filtered_data['Residual Maturity'], y=filtered_data['Spread Level'], mode='markers', name=f'{rating} - {sector}', visible=(rating == df['Rating Subcategory'].unique()[0] and sector == df['Sector'].unique()[0]))\n",
    "\n",
    "# Add the curve for the whole dataset averaging all ratings\n",
    "avg_spread_all = df.groupby('Residual Maturity')['Spread Level'].mean().reset_index()\n",
    "fig.add_trace(go.Scatter(x=avg_spread_all['Residual Maturity'], y=avg_spread_all['Spread Level'], mode='lines', line=dict(dash='dash'), name='Average Spread (All Ratings)', visible=True))\n",
    "\n",
    "# Add a separate trace for the average spread across all sectors\n",
    "avg_spread_all_sectors = df.groupby('Residual Maturity')['Spread Level'].mean().reset_index()\n",
    "fig.add_trace(go.Scatter(x=avg_spread_all_sectors['Residual Maturity'], y=avg_spread_all_sectors['Spread Level'], mode='lines', line=dict(dash='dash'), name='Average Spread (All Sectors)', visible=False))\n",
    "\n",
    "# Update layout with dropdown menus and initial titles\n",
    "fig.update_layout(updatemenus=[{'buttons': rating_dropdown, 'direction': 'down', 'showactive': True},\n",
    "                               {'buttons': sector_dropdown, 'direction': 'down', 'showactive': True}], title='Spread Level by Residual Maturity for Investment Grade and Finance Sector')\n",
    "\n",
    "fig.show()\n"
   ]
  },
  {
   "cell_type": "code",
   "execution_count": null,
   "id": "294c9ec6",
   "metadata": {},
   "outputs": [],
   "source": []
  }
 ],
 "metadata": {
  "kernelspec": {
   "display_name": "Python 3 (ipykernel)",
   "language": "python",
   "name": "python3"
  },
  "language_info": {
   "codemirror_mode": {
    "name": "ipython",
    "version": 3
   },
   "file_extension": ".py",
   "mimetype": "text/x-python",
   "name": "python",
   "nbconvert_exporter": "python",
   "pygments_lexer": "ipython3",
   "version": "3.10.12"
  }
 },
 "nbformat": 4,
 "nbformat_minor": 5
}
